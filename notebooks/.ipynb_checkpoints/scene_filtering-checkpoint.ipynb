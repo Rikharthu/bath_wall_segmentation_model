{
 "cells": [
  {
   "cell_type": "code",
   "execution_count": null,
   "metadata": {
    "collapsed": true
   },
   "outputs": [],
   "source": [
    "import matplotlib.pyplot as plt\n",
    "from matplotlib.backends.backend_agg import FigureCanvasAgg\n",
    "from matplotlib.figure import Figure\n",
    "from src.dataset import ADE20KDataset, WallADE20KDataset, SimpleWallADE20KDataset\n",
    "from IPython.display import IFrame\n",
    "from ipywidgets import Output, Button, Layout, HBox\n",
    "from ipywidgets import  widgets\n",
    "# from IPython.display import Image, display, clear_output\n",
    "from IPython import  display\n",
    "import PIL\n",
    "import io\n",
    "\n",
    "import numpy as np\n",
    "\n",
    "%matplotlib inline"
   ]
  },
  {
   "cell_type": "code",
   "execution_count": null,
   "outputs": [],
   "source": [
    "DATA_ROOT = \"../dataset/ADE20K_2021_17_01\""
   ],
   "metadata": {
    "collapsed": false
   }
  },
  {
   "cell_type": "code",
   "execution_count": null,
   "outputs": [],
   "source": [
    "8 % 3"
   ],
   "metadata": {
    "collapsed": false
   }
  },
  {
   "cell_type": "code",
   "execution_count": null,
   "outputs": [],
   "source": [
    "def display_sample_information(dataset, indices, show_mask=True):\n",
    "    height = 6\n",
    "    width = 6\n",
    "\n",
    "    fig = Figure(figsize=(15, 15), dpi=100)\n",
    "    canvas = FigureCanvasAgg(fig)\n",
    "\n",
    "    indices = indices[:int(width * height / 2)]\n",
    "    for i, idx in enumerate(indices):\n",
    "        ax_idx = i * 2 + 1\n",
    "        mask_ax_idx = ax_idx + 1\n",
    "        ax = fig.add_subplot(height, width, ax_idx)\n",
    "        mask_ax = fig.add_subplot(height, width, mask_ax_idx)\n",
    "        ax.axis('off')\n",
    "        mask_ax.axis('off')\n",
    "\n",
    "        image, mask = dataset[idx]\n",
    "\n",
    "        if image.shape[0] == 3:\n",
    "            image = image.transpose((1, 2, 0))\n",
    "        if len(mask.shape) == 3:\n",
    "            mask = mask.squeeze(axis=0)\n",
    "\n",
    "        ax.imshow(image)\n",
    "        mask_ax.imshow(mask)\n",
    "\n",
    "    canvas.draw()\n",
    "    buf = canvas.buffer_rgba()\n",
    "    return np.asarray(buf)"
   ],
   "metadata": {
    "collapsed": false
   }
  },
  {
   "cell_type": "code",
   "execution_count": null,
   "outputs": [],
   "source": [
    "wall_dataset = WallADE20KDataset(DATA_ROOT, mode='all')"
   ],
   "metadata": {
    "collapsed": false
   }
  },
  {
   "cell_type": "code",
   "execution_count": null,
   "outputs": [],
   "source": [
    "image = display_sample_information(wall_dataset, [0, 1, 2, 3])\n",
    "plt.figure(figsize=(15, 15))\n",
    "plt.imshow(image)\n",
    "plt.axis('off');\n"
   ],
   "metadata": {
    "collapsed": false
   }
  },
  {
   "cell_type": "code",
   "execution_count": null,
   "outputs": [],
   "source": [
    "def compress_to_bytes(data, fmt):\n",
    "    \"\"\"\n",
    "    Helper function to compress image data via PIL/Pillow.\n",
    "    \"\"\"\n",
    "    buff = io.BytesIO()\n",
    "    img = PIL.Image.fromarray(data)\n",
    "    img.save(buff, format=fmt)\n",
    "\n",
    "    return buff.getvalue()"
   ],
   "metadata": {
    "collapsed": false
   }
  },
  {
   "cell_type": "code",
   "execution_count": null,
   "outputs": [],
   "source": [
    "data_comp = compress_to_bytes(image, 'png')\n",
    "\n",
    "wid_builtin = widgets.Image(value=data_comp)\n",
    "\n",
    "wid_builtin.border_color = 'black'\n",
    "wid_builtin.border_width = 2\n",
    "wid_builtin"
   ],
   "metadata": {
    "collapsed": false
   }
  },
  {
   "cell_type": "code",
   "execution_count": null,
   "outputs": [],
   "source": [
    "frame = Output(layout=Layout(height=\"300px\", max_width=\"300px\"))\n",
    "with frame:\n",
    "    display.display(wid_builtin)"
   ],
   "metadata": {
    "collapsed": false
   }
  },
  {
   "cell_type": "code",
   "execution_count": 102,
   "outputs": [],
   "source": [
    "image = display.Image(filename='../dataset/ADE20K_2021_17_01/images/ADE/training/industrial/junk_pile/ADE_train_00010043.jpg')\n",
    "frame = Output(layout=Layout(height=\"300px\", max_width=\"300px\"))\n",
    "with frame:\n",
    "    display(image)"
   ],
   "metadata": {
    "collapsed": false
   }
  },
  {
   "cell_type": "code",
   "execution_count": null,
   "outputs": [],
   "source": [],
   "metadata": {
    "collapsed": false
   }
  }
 ],
 "metadata": {
  "kernelspec": {
   "display_name": "Python 3",
   "language": "python",
   "name": "python3"
  },
  "language_info": {
   "codemirror_mode": {
    "name": "ipython",
    "version": 2
   },
   "file_extension": ".py",
   "mimetype": "text/x-python",
   "name": "python",
   "nbconvert_exporter": "python",
   "pygments_lexer": "ipython2",
   "version": "2.7.6"
  }
 },
 "nbformat": 4,
 "nbformat_minor": 0
}
