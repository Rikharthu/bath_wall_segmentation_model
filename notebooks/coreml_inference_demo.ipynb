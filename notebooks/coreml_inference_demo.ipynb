{
 "cells": [
  {
   "cell_type": "code",
   "execution_count": null,
   "metadata": {
    "ExecuteTime": {
     "end_time": "2023-06-04T14:04:43.212119Z",
     "start_time": "2023-06-04T14:04:27.515794Z"
    },
    "collapsed": true
   },
   "outputs": [],
   "source": [
    "import coremltools as ct\n",
    "import numpy as npy\n",
    "import PIL\n",
    "\n",
    "import sys\n",
    "\n",
    "try:\n",
    "    import src\n",
    "except:\n",
    "    sys.path.append('../')\n",
    "    import src\n",
    "\n",
    "from src.transform import get_train_augmentations\n",
    "\n",
    "import coremltools as ct\n",
    "import numpy as np\n",
    "import matplotlib.pyplot as plt\n",
    "import PIL\n",
    "import albumentations as A"
   ]
  },
  {
   "cell_type": "code",
   "execution_count": null,
   "metadata": {
    "ExecuteTime": {
     "end_time": "2023-06-04T14:05:29.330463Z",
     "start_time": "2023-06-04T14:04:43.213945Z"
    },
    "collapsed": false
   },
   "outputs": [],
   "source": [
    "MODEL_PATH = \"DeepLabV3Plus-mobileone_s3.mlpackage\"\n",
    "\n",
    "model = ct.models.MLModel(MODEL_PATH)\n",
    "spec = model.get_spec()"
   ]
  },
  {
   "cell_type": "code",
   "execution_count": null,
   "metadata": {
    "ExecuteTime": {
     "start_time": "2023-06-04T14:06:33.005519Z"
    },
    "collapsed": false,
    "is_executing": true
   },
   "outputs": [],
   "source": [
    "sample_image_path = '/Users/richardkuodis/Downloads/IMG_0184.PNG'\n",
    "image = PIL.Image.open(sample_image_path)\n",
    "image = np.asarray(image)\n",
    "plt.imshow(image);\n",
    "image.shape"
   ]
  },
  {
   "cell_type": "code",
   "execution_count": null,
   "metadata": {
    "ExecuteTime": {
     "end_time": "2023-06-04T14:07:20.501098Z",
     "start_time": "2023-06-04T14:07:20.496999Z"
    },
    "collapsed": false
   },
   "outputs": [],
   "source": [
    "img_width = spec.description.input[0].type.imageType.width\n",
    "img_height = spec.description.input[0].type.imageType.height\n",
    "img_width, img_height"
   ]
  },
  {
   "cell_type": "code",
   "execution_count": null,
   "metadata": {
    "ExecuteTime": {
     "end_time": "2023-06-04T14:07:23.085845Z",
     "start_time": "2023-06-04T14:07:23.075899Z"
    },
    "collapsed": false
   },
   "outputs": [],
   "source": [
    "resize_image_fn = A.Compose([\n",
    "    A.LongestMaxSize(max_size=min(img_width, img_height), interpolation=1),\n",
    "    A.PadIfNeeded(\n",
    "        min_height=img_height,\n",
    "        min_width=img_width,\n",
    "        border_mode=0\n",
    "    ),\n",
    "    A.PadIfNeeded(\n",
    "        min_height=None,\n",
    "        min_width=None,\n",
    "        pad_width_divisor=32,\n",
    "        pad_height_divisor=32,\n",
    "        border_mode=0,\n",
    "    ),\n",
    "])"
   ]
  },
  {
   "cell_type": "code",
   "execution_count": null,
   "metadata": {
    "ExecuteTime": {
     "end_time": "2023-06-04T14:07:25.490635Z",
     "start_time": "2023-06-04T14:07:25.297613Z"
    },
    "collapsed": false
   },
   "outputs": [],
   "source": [
    "image_preprocessed = resize_image_fn(image=image)['image']\n",
    "plt.imshow(image_preprocessed)\n",
    "image_preprocessed.shape"
   ]
  },
  {
   "cell_type": "code",
   "execution_count": null,
   "metadata": {
    "ExecuteTime": {
     "end_time": "2023-06-04T14:07:41.595127Z",
     "start_time": "2023-06-04T14:07:41.583547Z"
    },
    "collapsed": false
   },
   "outputs": [],
   "source": [
    "input_name = spec.description.input[0].name\n",
    "input_name"
   ]
  },
  {
   "cell_type": "code",
   "execution_count": null,
   "metadata": {
    "ExecuteTime": {
     "end_time": "2023-06-04T14:11:31.025486Z",
     "start_time": "2023-06-04T14:11:30.888951Z"
    },
    "collapsed": false
   },
   "outputs": [],
   "source": [
    "# input = PIL.Image.fromarray(image_preprocessed, 'RGB')\n",
    "input = PIL.Image.open(sample_image_path).convert('RGB').resize((800, 800))\n",
    "y = model.predict({input_name: input})"
   ]
  },
  {
   "cell_type": "code",
   "execution_count": null,
   "metadata": {
    "ExecuteTime": {
     "end_time": "2023-06-04T14:11:31.466766Z",
     "start_time": "2023-06-04T14:11:31.461759Z"
    },
    "collapsed": false
   },
   "outputs": [],
   "source": [
    "y.keys()"
   ]
  },
  {
   "cell_type": "code",
   "execution_count": null,
   "metadata": {
    "ExecuteTime": {
     "end_time": "2023-06-04T14:11:32.077765Z",
     "start_time": "2023-06-04T14:11:31.947076Z"
    },
    "collapsed": false
   },
   "outputs": [],
   "source": [
    "output = y['output']\n",
    "plt.imshow(output);\n",
    "plt.axis('off')"
   ]
  },
  {
   "cell_type": "code",
   "execution_count": null,
   "metadata": {},
   "outputs": [],
   "source": [
    "output.shape"
   ]
  },
  {
   "cell_type": "code",
   "execution_count": null,
   "metadata": {
    "ExecuteTime": {
     "end_time": "2023-06-04T14:12:09.498106Z",
     "start_time": "2023-06-04T14:12:09.395652Z"
    },
    "collapsed": false
   },
   "outputs": [],
   "source": [
    "threshold = 0.5\n",
    "mask = np.zeros_like(output)\n",
    "mask[output>=threshold] = 255\n",
    "mask[output<threshold] = 0\n",
    "plt.imshow(mask);"
   ]
  },
  {
   "cell_type": "code",
   "execution_count": null,
   "metadata": {
    "ExecuteTime": {
     "end_time": "2023-06-04T14:12:32.319399Z",
     "start_time": "2023-06-04T14:12:32.308487Z"
    },
    "collapsed": false
   },
   "outputs": [],
   "source": [
    "output.min(), output.max()"
   ]
  },
  {
   "cell_type": "code",
   "execution_count": null,
   "metadata": {
    "collapsed": false
   },
   "outputs": [],
   "source": []
  }
 ],
 "metadata": {
  "kernelspec": {
   "display_name": "Python 3",
   "language": "python",
   "name": "python3"
  },
  "language_info": {
   "codemirror_mode": {
    "name": "ipython",
    "version": 3
   },
   "file_extension": ".py",
   "mimetype": "text/x-python",
   "name": "python",
   "nbconvert_exporter": "python",
   "pygments_lexer": "ipython3",
   "version": "3.11.0"
  }
 },
 "nbformat": 4,
 "nbformat_minor": 0
}
