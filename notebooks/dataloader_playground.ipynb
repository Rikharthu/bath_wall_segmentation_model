{
 "cells": [
  {
   "cell_type": "code",
   "execution_count": null,
   "metadata": {
    "ExecuteTime": {
     "end_time": "2023-05-09T21:01:15.992348215Z",
     "start_time": "2023-05-09T21:01:13.611721330Z"
    },
    "collapsed": false,
    "jupyter": {
     "outputs_hidden": false
    },
    "tags": []
   },
   "outputs": [],
   "source": [
    "import os\n",
    "\n",
    "os.environ[\"PYTORCH_CUDA_ALLOC_CONF\"] = \"max_split_size_mb:512\"\n",
    "os.environ[\"CUDA_VISIBLE_DEVICES\"] = '0'\n",
    "\n",
    "import torch\n",
    "\n",
    "torch.set_float32_matmul_precision(\"medium\")  # Try \"high\" as well\n",
    "\n",
    "import matplotlib.pyplot as plt\n",
    "\n",
    "from torch.utils.data import DataLoader\n",
    "from pytorch_lightning.callbacks import ModelCheckpoint, EarlyStopping\n",
    "import pytorch_lightning as pl\n",
    "from pytorch_lightning.loggers import MLFlowLogger\n",
    "import mlflow\n",
    "from typing import Tuple, List\n",
    "import numpy as np\n",
    "\n",
    "import coremltools as ct\n",
    "\n",
    "import sys\n",
    "\n",
    "try:\n",
    "    import src\n",
    "except:\n",
    "    sys.path.append('../')\n",
    "    import src\n",
    "\n",
    "from src.dataset import SimpleWallADE20KDataset\n",
    "from src.model import WallModel\n",
    "from src import config\n",
    "from src.transform import get_preprocessing_transform, get_train_augmentations, get_val_augmentations"
   ]
  },
  {
   "cell_type": "code",
   "execution_count": null,
   "metadata": {
    "ExecuteTime": {
     "end_time": "2023-05-09T21:02:49.315814506Z",
     "start_time": "2023-05-09T21:02:28.882904380Z"
    },
    "collapsed": false,
    "jupyter": {
     "outputs_hidden": false
    },
    "tags": []
   },
   "outputs": [],
   "source": [
    "TRAIN_SIZE = 10\n",
    "VAL_SIZE = 10\n",
    "\n",
    "train_augmentations = get_train_augmentations()\n",
    "train_dataset = SimpleWallADE20KDataset(\n",
    "    root=config.DATA_ROOT,\n",
    "    mode='train',\n",
    "    length=TRAIN_SIZE,\n",
    "    augmentation_fn=train_augmentations,\n",
    "    preprocessing_fn=None\n",
    ")\n",
    "\n",
    "val_augmentations = get_val_augmentations()\n",
    "val_dataset = SimpleWallADE20KDataset(\n",
    "    root=config.DATA_ROOT,\n",
    "    mode='val',\n",
    "    length=TRAIN_SIZE,\n",
    "    augmentation_fn=val_augmentations,\n",
    "    preprocessing_fn=None\n",
    ")\n",
    "\n",
    "print(f\"Train size: {len(train_dataset)}\")\n",
    "print(f\"Validation size: {len(val_dataset)}\")\n",
    "\n",
    "n_cpu = os.cpu_count()\n",
    "print(f'Number of CPUs: {n_cpu}')\n",
    "train_dataloader = DataLoader(train_dataset, batch_size=1, shuffle=False, num_workers=n_cpu)\n",
    "val_dataloader = DataLoader(val_dataset, batch_size=1, shuffle=False, num_workers=n_cpu)"
   ]
  },
  {
   "cell_type": "code",
   "execution_count": null,
   "metadata": {
    "collapsed": false,
    "jupyter": {
     "outputs_hidden": false
    },
    "tags": []
   },
   "outputs": [],
   "source": [
    "for i in range(0, 10):\n",
    "    image, mask = next(iter(train_dataloader))\n",
    "\n",
    "    image = image.numpy().squeeze(axis=0)\n",
    "    plt.figure()\n",
    "    plt.imshow(image)"
   ]
  },
  {
   "cell_type": "code",
   "execution_count": null,
   "metadata": {
    "tags": []
   },
   "outputs": [],
   "source": []
  },
  {
   "cell_type": "code",
   "execution_count": null,
   "metadata": {},
   "outputs": [],
   "source": []
  }
 ],
 "metadata": {
  "kernelspec": {
   "display_name": "Python 3 (ipykernel)",
   "language": "python",
   "name": "python3"
  },
  "language_info": {
   "codemirror_mode": {
    "name": "ipython",
    "version": 3
   },
   "file_extension": ".py",
   "mimetype": "text/x-python",
   "name": "python",
   "nbconvert_exporter": "python",
   "pygments_lexer": "ipython3",
   "version": "3.10.11"
  }
 },
 "nbformat": 4,
 "nbformat_minor": 4
}
