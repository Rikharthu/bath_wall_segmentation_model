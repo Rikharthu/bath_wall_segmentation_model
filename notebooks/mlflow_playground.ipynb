{
 "cells": [
  {
   "cell_type": "code",
   "execution_count": 1,
   "metadata": {
    "collapsed": true,
    "ExecuteTime": {
     "end_time": "2023-05-13T11:30:50.935015962Z",
     "start_time": "2023-05-13T11:30:50.553744333Z"
    }
   },
   "outputs": [],
   "source": [
    "import mlflow"
   ]
  },
  {
   "cell_type": "code",
   "execution_count": 4,
   "outputs": [
    {
     "name": "stdout",
     "output_type": "stream",
     "text": [
      "<RunInfo: artifact_uri='file:///home/ricardsku/Development/Bath/bath_wall_segmentation_model/notebooks/mlruns/392851023146577767/f93d2a99d8764587a5b5abf841113577/artifacts', end_time=None, experiment_id='392851023146577767', lifecycle_stage='active', run_id='f93d2a99d8764587a5b5abf841113577', run_name='whimsical-roo-157', run_uuid='f93d2a99d8764587a5b5abf841113577', start_time=1683977476273, status='RUNNING', user_id='ricardsku'>\n",
      "whimsical-roo-157\n"
     ]
    }
   ],
   "source": [
    "mlflow.set_experiment(\"playground\")\n",
    "with mlflow.start_run() as run:\n",
    "    print(run.info)\n",
    "    print(run.info.run_name)"
   ],
   "metadata": {
    "collapsed": false,
    "ExecuteTime": {
     "end_time": "2023-05-13T11:31:16.279338702Z",
     "start_time": "2023-05-13T11:31:16.271813265Z"
    }
   }
  },
  {
   "cell_type": "code",
   "execution_count": null,
   "outputs": [],
   "source": [],
   "metadata": {
    "collapsed": false
   }
  }
 ],
 "metadata": {
  "kernelspec": {
   "display_name": "Python 3",
   "language": "python",
   "name": "python3"
  },
  "language_info": {
   "codemirror_mode": {
    "name": "ipython",
    "version": 2
   },
   "file_extension": ".py",
   "mimetype": "text/x-python",
   "name": "python",
   "nbconvert_exporter": "python",
   "pygments_lexer": "ipython2",
   "version": "2.7.6"
  }
 },
 "nbformat": 4,
 "nbformat_minor": 0
}
