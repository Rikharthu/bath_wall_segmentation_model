{
 "cells": [
  {
   "cell_type": "code",
   "execution_count": 29,
   "outputs": [],
   "source": [
    "import os\n",
    "import matplotlib.pyplot as plt\n",
    "import pytorch_lightning as pl\n",
    "import segmentation_models_pytorch as smp\n",
    "from torch.utils.data import DataLoader\n",
    "import torch\n",
    "from src.dataset import WallADE20KDataset, SimpleWallADE20KDataset\n",
    "from src import config"
   ],
   "metadata": {
    "collapsed": false,
    "ExecuteTime": {
     "end_time": "2023-05-05T17:40:39.539374512Z",
     "start_time": "2023-05-05T17:40:39.529779414Z"
    }
   }
  },
  {
   "cell_type": "code",
   "execution_count": 19,
   "outputs": [],
   "source": [
    "ENCODER_NAME = \"mobileone_s1\"\n",
    "ARCHITECTURE_NAME = \"DeepLabV3Plus\" # FPN"
   ],
   "metadata": {
    "collapsed": false,
    "ExecuteTime": {
     "end_time": "2023-05-05T17:39:32.544931611Z",
     "start_time": "2023-05-05T17:39:32.538372022Z"
    }
   }
  },
  {
   "cell_type": "code",
   "execution_count": 20,
   "outputs": [
    {
     "data": {
      "text/plain": "{'input_space': 'RGB',\n 'input_range': [0, 1],\n 'mean': [0.485, 0.456, 0.406],\n 'std': [0.229, 0.224, 0.225]}"
     },
     "execution_count": 20,
     "metadata": {},
     "output_type": "execute_result"
    }
   ],
   "source": [
    "params = smp.encoders.get_preprocessing_params(ENCODER_NAME)\n",
    "params"
   ],
   "metadata": {
    "collapsed": false,
    "ExecuteTime": {
     "end_time": "2023-05-05T17:39:33.108473933Z",
     "start_time": "2023-05-05T17:39:33.100277137Z"
    }
   }
  },
  {
   "cell_type": "code",
   "execution_count": 21,
   "outputs": [],
   "source": [
    "model = smp.create_model(\n",
    "    ARCHITECTURE_NAME,\n",
    "    ENCODER_NAME,\n",
    "    in_channels=3,\n",
    "    classes=1,\n",
    ")"
   ],
   "metadata": {
    "collapsed": false,
    "ExecuteTime": {
     "end_time": "2023-05-05T17:39:34.525805835Z",
     "start_time": "2023-05-05T17:39:34.440707618Z"
    }
   }
  },
  {
   "cell_type": "code",
   "execution_count": 24,
   "outputs": [],
   "source": [
    "dataset = WallADE20KDataset(root=config.DATA_ROOT, mode='all')\n",
    "# dataloader = DataLoader(dataset, batch_size=1, shuffle=True, num_workers=20)"
   ],
   "metadata": {
    "collapsed": false,
    "ExecuteTime": {
     "end_time": "2023-05-05T17:40:03.100909823Z",
     "start_time": "2023-05-05T17:39:56.021419178Z"
    }
   }
  },
  {
   "cell_type": "code",
   "execution_count": 25,
   "outputs": [],
   "source": [
    "image, mask = dataset[0]"
   ],
   "metadata": {
    "collapsed": false,
    "ExecuteTime": {
     "end_time": "2023-05-05T17:40:11.118847008Z",
     "start_time": "2023-05-05T17:40:11.021891222Z"
    }
   }
  },
  {
   "cell_type": "code",
   "execution_count": 26,
   "outputs": [
    {
     "data": {
      "text/plain": "(numpy.ndarray, (1536, 2048, 3), 0, 255)"
     },
     "execution_count": 26,
     "metadata": {},
     "output_type": "execute_result"
    }
   ],
   "source": [
    "type(image), image.shape, image.min(), image.max()"
   ],
   "metadata": {
    "collapsed": false,
    "ExecuteTime": {
     "end_time": "2023-05-05T17:40:12.598321728Z",
     "start_time": "2023-05-05T17:40:12.576466058Z"
    }
   }
  },
  {
   "cell_type": "code",
   "execution_count": 27,
   "outputs": [
    {
     "data": {
      "text/plain": "functools.partial(<function preprocess_input at 0x7fb470af3e20>, input_space='RGB', input_range=[0, 1], mean=[0.485, 0.456, 0.406], std=[0.229, 0.224, 0.225])"
     },
     "execution_count": 27,
     "metadata": {},
     "output_type": "execute_result"
    }
   ],
   "source": [
    "preprocess_fn = smp.encoders.get_preprocessing_fn(ENCODER_NAME, pretrained='imagenet')\n",
    "preprocess_fn"
   ],
   "metadata": {
    "collapsed": false,
    "ExecuteTime": {
     "end_time": "2023-05-05T17:40:17.095535472Z",
     "start_time": "2023-05-05T17:40:17.085572949Z"
    }
   }
  },
  {
   "cell_type": "code",
   "execution_count": 28,
   "outputs": [
    {
     "data": {
      "text/plain": "(numpy.ndarray, (1536, 2048, 3), -2.1179039301310043, 2.6399999999999997)"
     },
     "execution_count": 28,
     "metadata": {},
     "output_type": "execute_result"
    }
   ],
   "source": [
    "image_pre = preprocess_fn(image)\n",
    "type(image_pre), image_pre.shape, image_pre.min(), image_pre.max()"
   ],
   "metadata": {
    "collapsed": false,
    "ExecuteTime": {
     "end_time": "2023-05-05T17:40:25.377388920Z",
     "start_time": "2023-05-05T17:40:25.302749643Z"
    }
   }
  },
  {
   "cell_type": "code",
   "execution_count": 32,
   "outputs": [],
   "source": [
    "simple_dataset = SimpleWallADE20KDataset(root=config.DATA_ROOT, mode='all')"
   ],
   "metadata": {
    "collapsed": false,
    "ExecuteTime": {
     "end_time": "2023-05-05T17:42:32.600095020Z",
     "start_time": "2023-05-05T17:42:25.719194185Z"
    }
   }
  },
  {
   "cell_type": "code",
   "execution_count": 34,
   "outputs": [
    {
     "data": {
      "text/plain": "(numpy.ndarray, (512, 512, 3), 1, 255)"
     },
     "execution_count": 34,
     "metadata": {},
     "output_type": "execute_result"
    }
   ],
   "source": [
    "image, mask = simple_dataset[0]\n",
    "image = image.squeeze().transpose((1, 2, 0))\n",
    "type(image), image.shape, image.min(), image.max()"
   ],
   "metadata": {
    "collapsed": false,
    "ExecuteTime": {
     "end_time": "2023-05-05T17:42:40.270499382Z",
     "start_time": "2023-05-05T17:42:40.198890205Z"
    }
   }
  },
  {
   "cell_type": "code",
   "execution_count": 35,
   "outputs": [
    {
     "data": {
      "text/plain": "{'input_space': 'RGB',\n 'input_range': [0, 1],\n 'mean': [0.485, 0.456, 0.406],\n 'std': [0.229, 0.224, 0.225]}"
     },
     "execution_count": 35,
     "metadata": {},
     "output_type": "execute_result"
    }
   ],
   "source": [
    "params = smp.encoders.get_preprocessing_params(encoder_name=ENCODER_NAME)\n",
    "params"
   ],
   "metadata": {
    "collapsed": false,
    "ExecuteTime": {
     "end_time": "2023-05-05T17:43:32.085458073Z",
     "start_time": "2023-05-05T17:43:32.079135430Z"
    }
   }
  },
  {
   "cell_type": "code",
   "execution_count": 36,
   "outputs": [],
   "source": [
    "dataloader = DataLoader(simple_dataset, batch_size=1, shuffle=True, num_workers=20)\n",
    "image, mask = next(iter(dataloader))"
   ],
   "metadata": {
    "collapsed": false,
    "ExecuteTime": {
     "end_time": "2023-05-05T17:45:40.022637283Z",
     "start_time": "2023-05-05T17:45:39.255574669Z"
    }
   }
  },
  {
   "cell_type": "code",
   "execution_count": 37,
   "outputs": [],
   "source": [
    "std = torch.tensor(params[\"std\"]).view(1, 3, 1, 1)\n",
    "mean = torch.tensor(params[\"mean\"]).view(1, 3, 1, 1)"
   ],
   "metadata": {
    "collapsed": false,
    "ExecuteTime": {
     "end_time": "2023-05-05T17:45:55.925783547Z",
     "start_time": "2023-05-05T17:45:55.876311702Z"
    }
   }
  },
  {
   "cell_type": "code",
   "execution_count": 38,
   "outputs": [],
   "source": [
    "image_pre = (image - mean) / std"
   ],
   "metadata": {
    "collapsed": false,
    "ExecuteTime": {
     "end_time": "2023-05-05T17:46:09.210325548Z",
     "start_time": "2023-05-05T17:46:09.193499919Z"
    }
   }
  },
  {
   "cell_type": "code",
   "execution_count": null,
   "outputs": [],
   "source": [],
   "metadata": {
    "collapsed": false
   }
  },
  {
   "cell_type": "code",
   "execution_count": null,
   "outputs": [],
   "source": [],
   "metadata": {
    "collapsed": false
   }
  },
  {
   "cell_type": "code",
   "execution_count": null,
   "outputs": [],
   "source": [
    "from segmentation_models_pytorch.datasets import SimpleOxfordPetDataset"
   ],
   "metadata": {
    "collapsed": false
   }
  },
  {
   "cell_type": "code",
   "execution_count": null,
   "outputs": [],
   "source": [
    "# Download data\n",
    "root = \"./dataset\"\n",
    "SimpleOxfordPetDataset.download(root)"
   ],
   "metadata": {
    "collapsed": false
   }
  },
  {
   "cell_type": "code",
   "execution_count": null,
   "outputs": [],
   "source": [
    "sample = train_dataset[0]"
   ],
   "metadata": {
    "collapsed": false
   }
  }
 ],
 "metadata": {
  "kernelspec": {
   "display_name": "Python 3",
   "language": "python",
   "name": "python3"
  },
  "language_info": {
   "codemirror_mode": {
    "name": "ipython",
    "version": 2
   },
   "file_extension": ".py",
   "mimetype": "text/x-python",
   "name": "python",
   "nbconvert_exporter": "python",
   "pygments_lexer": "ipython2",
   "version": "2.7.6"
  }
 },
 "nbformat": 4,
 "nbformat_minor": 0
}
