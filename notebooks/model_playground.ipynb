{
 "cells": [
  {
   "cell_type": "code",
   "execution_count": 2,
   "metadata": {
    "ExecuteTime": {
     "end_time": "2023-05-12T06:04:36.271058934Z",
     "start_time": "2023-05-12T06:04:33.796344470Z"
    },
    "collapsed": false,
    "jupyter": {
     "outputs_hidden": false
    },
    "tags": []
   },
   "outputs": [],
   "source": [
    "import sys\n",
    "\n",
    "try:\n",
    "    import src\n",
    "except:\n",
    "    sys.path.append('../')\n",
    "    import src\n",
    "\n",
    "import os\n",
    "import matplotlib.pyplot as plt\n",
    "import pytorch_lightning as pl\n",
    "import segmentation_models_pytorch as smp\n",
    "from torch.utils.data import DataLoader\n",
    "import torch\n",
    "from src.dataset import WallADE20KDataset, SimpleWallADE20KDataset\n",
    "from src import config\n",
    "from src.model import WallModel\n",
    "from torch.optim import Adam"
   ]
  },
  {
   "cell_type": "code",
   "execution_count": 3,
   "metadata": {
    "ExecuteTime": {
     "end_time": "2023-05-12T06:04:53.175152449Z",
     "start_time": "2023-05-12T06:04:53.170768018Z"
    },
    "collapsed": false,
    "jupyter": {
     "outputs_hidden": false
    },
    "tags": []
   },
   "outputs": [],
   "source": [
    "def count_parameters(model):\n",
    "    return sum(p.numel() for p in model.parameters() if p.requires_grad)"
   ]
  },
  {
   "cell_type": "code",
   "execution_count": 13,
   "metadata": {
    "ExecuteTime": {
     "end_time": "2023-05-12T06:04:54.104841137Z",
     "start_time": "2023-05-12T06:04:53.800432198Z"
    },
    "collapsed": false,
    "jupyter": {
     "outputs_hidden": false
    },
    "tags": []
   },
   "outputs": [
    {
     "name": "stdout",
     "output_type": "stream",
     "text": [
      "16068729\n",
      "3166481\n"
     ]
    }
   ],
   "source": [
    "ENCODER_NAME = \"mobileone_s4\" # S4 has squeeze-excite blocks\n",
    "# ENCODER_NAME = \"mobileone_s4\"\n",
    "ARCHITECTURE_NAME = \"DeepLabV3Plus\"\n",
    "# ARCHITECTURE_NAME = \"DeepLabV3\"\n",
    "# ARCHITECTURE_NAME = \"PSPNet\"\n",
    "# ARCHITECTURE_NAME = \"PAN\"\n",
    "# ARCHITECTURE_NAME = \"UNet\"\n",
    "\n",
    "model = WallModel(architecture=ARCHITECTURE_NAME, encoder_name=ENCODER_NAME, in_channels=3, out_classes=1, encoder_depth=5).eval()\n",
    "# model = smp.create_model(\n",
    "#     ARCHITECTURE_NAME,\n",
    "#     encoder_name=ENCODER_NAME,\n",
    "#     in_channels=3,\n",
    "#     classes=1,\n",
    "#     decoder_atrous_rates=(12, 24, 36),\n",
    "#     decoder_channels=512,\n",
    "#     we\n",
    "# )\n",
    "print(count_parameters(model))\n",
    "\n",
    "rep_model = smp.encoders.mobileone.reparameterize_model(model).eval()\n",
    "print(count_parameters(rep_model))\n",
    "\n",
    "# mobileone_s4\n",
    "# 16068729\n",
    "# 3166481\n",
    "\n",
    "# mobileone_s3\n",
    "# 11285009\n",
    "# 3163409\n",
    "\n",
    "# mobileone_s2\n",
    "# 8997521\n",
    "# 3161873\n",
    "\n",
    "# mobileone_s1\n",
    "# 5702289\n",
    "# 2158097\n",
    "\n",
    "# mobileone_s0\n",
    "# 6089473\n",
    "# 1821201"
   ]
  },
  {
   "cell_type": "code",
   "execution_count": 10,
   "metadata": {
    "tags": []
   },
   "outputs": [],
   "source": [
    "x = torch.rand((1, 3, 704, 704)).cpu()\n",
    "\n",
    "y = model.model.eval().encoder(x)"
   ]
  },
  {
   "cell_type": "code",
   "execution_count": 14,
   "metadata": {
    "tags": []
   },
   "outputs": [
    {
     "name": "stdout",
     "output_type": "stream",
     "text": [
      "torch.Size([1, 3, 704, 704])\n",
      "torch.Size([1, 64, 352, 352])\n",
      "torch.Size([1, 192, 176, 176])\n",
      "torch.Size([1, 448, 88, 88])\n"
     ]
    }
   ],
   "source": [
    "for o in y:\n",
    "    print(o.shape)"
   ]
  },
  {
   "cell_type": "code",
   "execution_count": 26,
   "metadata": {
    "ExecuteTime": {
     "end_time": "2023-05-11T13:00:10.597018103Z",
     "start_time": "2023-05-11T13:00:04.207693108Z"
    },
    "collapsed": false,
    "jupyter": {
     "outputs_hidden": false
    }
   },
   "outputs": [
    {
     "data": {
      "text/plain": [
       "(torch.Size([8, 1, 512, 512]), torch.Size([8, 1]))"
      ]
     },
     "execution_count": 26,
     "metadata": {},
     "output_type": "execute_result"
    }
   ],
   "source": [
    "x = torch.rand((8, 3, 512, 512))\n",
    "y = model.eval()(x)\n",
    "y[0].shape, y[1].shape"
   ]
  },
  {
   "cell_type": "code",
   "execution_count": 28,
   "metadata": {
    "ExecuteTime": {
     "end_time": "2023-05-10T17:44:45.482295037Z",
     "start_time": "2023-05-10T17:44:45.437190107Z"
    },
    "collapsed": false,
    "jupyter": {
     "outputs_hidden": false
    }
   },
   "outputs": [
    {
     "name": "stderr",
     "output_type": "stream",
     "text": [
      "GPU available: True (cuda), used: False\n",
      "TPU available: False, using: 0 TPU cores\n",
      "IPU available: False, using: 0 IPUs\n",
      "HPU available: False, using: 0 HPUs\n",
      "/home/ricardsku/miniconda3/envs/ml/lib/python3.10/site-packages/pytorch_lightning/trainer/setup.py:176: PossibleUserWarning: GPU available but not used. Set `accelerator` and `devices` using `Trainer(accelerator='gpu', devices=1)`.\n",
      "  rank_zero_warn(\n"
     ]
    }
   ],
   "source": [
    "trainer = pl.Trainer(\n",
    "    accelerator='cpu',\n",
    "    max_epochs=5,\n",
    ")"
   ]
  },
  {
   "cell_type": "code",
   "execution_count": 29,
   "metadata": {
    "ExecuteTime": {
     "end_time": "2023-05-10T17:44:49.747818343Z",
     "start_time": "2023-05-10T17:44:49.734992028Z"
    },
    "collapsed": false,
    "jupyter": {
     "outputs_hidden": false
    }
   },
   "outputs": [
    {
     "ename": "RuntimeError",
     "evalue": "WallModel is not attached to a `Trainer`.",
     "output_type": "error",
     "traceback": [
      "\u001B[0;31m---------------------------------------------------------------------------\u001B[0m",
      "\u001B[0;31mRuntimeError\u001B[0m                              Traceback (most recent call last)",
      "Cell \u001B[0;32mIn[29], line 1\u001B[0m\n\u001B[0;32m----> 1\u001B[0m \u001B[43mmodel\u001B[49m\u001B[38;5;241;43m.\u001B[39;49m\u001B[43moptimizers\u001B[49m\u001B[43m(\u001B[49m\u001B[43m)\u001B[49m\n",
      "File \u001B[0;32m~/miniconda3/envs/ml/lib/python3.10/site-packages/pytorch_lightning/core/module.py:160\u001B[0m, in \u001B[0;36mLightningModule.optimizers\u001B[0;34m(self, use_pl_optimizer)\u001B[0m\n\u001B[1;32m    158\u001B[0m     opts: MODULE_OPTIMIZERS \u001B[38;5;241m=\u001B[39m \u001B[38;5;28mself\u001B[39m\u001B[38;5;241m.\u001B[39m_fabric_optimizers\n\u001B[1;32m    159\u001B[0m \u001B[38;5;28;01melif\u001B[39;00m use_pl_optimizer:\n\u001B[0;32m--> 160\u001B[0m     opts \u001B[38;5;241m=\u001B[39m \u001B[38;5;28;43mself\u001B[39;49m\u001B[38;5;241;43m.\u001B[39;49m\u001B[43mtrainer\u001B[49m\u001B[38;5;241m.\u001B[39mstrategy\u001B[38;5;241m.\u001B[39m_lightning_optimizers\n\u001B[1;32m    161\u001B[0m \u001B[38;5;28;01melse\u001B[39;00m:\n\u001B[1;32m    162\u001B[0m     opts \u001B[38;5;241m=\u001B[39m \u001B[38;5;28mself\u001B[39m\u001B[38;5;241m.\u001B[39mtrainer\u001B[38;5;241m.\u001B[39moptimizers\n",
      "File \u001B[0;32m~/miniconda3/envs/ml/lib/python3.10/site-packages/pytorch_lightning/core/module.py:200\u001B[0m, in \u001B[0;36mLightningModule.trainer\u001B[0;34m(self)\u001B[0m\n\u001B[1;32m    198\u001B[0m     \u001B[38;5;28;01mreturn\u001B[39;00m _TrainerFabricShim(fabric\u001B[38;5;241m=\u001B[39m\u001B[38;5;28mself\u001B[39m\u001B[38;5;241m.\u001B[39m_fabric)  \u001B[38;5;66;03m# type: ignore[return-value]\u001B[39;00m\n\u001B[1;32m    199\u001B[0m \u001B[38;5;28;01mif\u001B[39;00m \u001B[38;5;129;01mnot\u001B[39;00m \u001B[38;5;28mself\u001B[39m\u001B[38;5;241m.\u001B[39m_jit_is_scripting \u001B[38;5;129;01mand\u001B[39;00m \u001B[38;5;28mself\u001B[39m\u001B[38;5;241m.\u001B[39m_trainer \u001B[38;5;129;01mis\u001B[39;00m \u001B[38;5;28;01mNone\u001B[39;00m:\n\u001B[0;32m--> 200\u001B[0m     \u001B[38;5;28;01mraise\u001B[39;00m \u001B[38;5;167;01mRuntimeError\u001B[39;00m(\u001B[38;5;124mf\u001B[39m\u001B[38;5;124m\"\u001B[39m\u001B[38;5;132;01m{\u001B[39;00m\u001B[38;5;28mself\u001B[39m\u001B[38;5;241m.\u001B[39m\u001B[38;5;18m__class__\u001B[39m\u001B[38;5;241m.\u001B[39m\u001B[38;5;18m__qualname__\u001B[39m\u001B[38;5;132;01m}\u001B[39;00m\u001B[38;5;124m is not attached to a `Trainer`.\u001B[39m\u001B[38;5;124m\"\u001B[39m)\n\u001B[1;32m    201\u001B[0m \u001B[38;5;28;01mreturn\u001B[39;00m \u001B[38;5;28mself\u001B[39m\u001B[38;5;241m.\u001B[39m_trainer\n",
      "\u001B[0;31mRuntimeError\u001B[0m: WallModel is not attached to a `Trainer`."
     ]
    }
   ],
   "source": [
    "model.optimizers()"
   ]
  },
  {
   "cell_type": "code",
   "execution_count": 31,
   "metadata": {
    "ExecuteTime": {
     "end_time": "2023-05-10T17:57:36.315722729Z",
     "start_time": "2023-05-10T17:57:36.275014952Z"
    },
    "collapsed": false,
    "jupyter": {
     "outputs_hidden": false
    }
   },
   "outputs": [
    {
     "data": {
      "text/plain": [
       "'03'"
      ]
     },
     "execution_count": 31,
     "metadata": {},
     "output_type": "execute_result"
    }
   ],
   "source": [
    "'3'.zfill(2)"
   ]
  },
  {
   "cell_type": "code",
   "execution_count": null,
   "metadata": {
    "collapsed": false,
    "jupyter": {
     "outputs_hidden": false
    }
   },
   "outputs": [],
   "source": []
  },
  {
   "cell_type": "code",
   "execution_count": 24,
   "metadata": {
    "ExecuteTime": {
     "end_time": "2023-05-05T17:40:03.100909823Z",
     "start_time": "2023-05-05T17:39:56.021419178Z"
    },
    "collapsed": false,
    "jupyter": {
     "outputs_hidden": false
    }
   },
   "outputs": [],
   "source": [
    "dataset = WallADE20KDataset(root=config.DATA_ROOT, mode='all')\n",
    "# dataloader = DataLoader(dataset, batch_size=1, shuffle=True, num_workers=20)"
   ]
  },
  {
   "cell_type": "code",
   "execution_count": 25,
   "metadata": {
    "ExecuteTime": {
     "end_time": "2023-05-05T17:40:11.118847008Z",
     "start_time": "2023-05-05T17:40:11.021891222Z"
    },
    "collapsed": false,
    "jupyter": {
     "outputs_hidden": false
    }
   },
   "outputs": [],
   "source": [
    "image, mask = dataset[0]"
   ]
  },
  {
   "cell_type": "code",
   "execution_count": 26,
   "metadata": {
    "ExecuteTime": {
     "end_time": "2023-05-05T17:40:12.598321728Z",
     "start_time": "2023-05-05T17:40:12.576466058Z"
    },
    "collapsed": false,
    "jupyter": {
     "outputs_hidden": false
    }
   },
   "outputs": [
    {
     "data": {
      "text/plain": [
       "(numpy.ndarray, (1536, 2048, 3), 0, 255)"
      ]
     },
     "execution_count": 26,
     "metadata": {},
     "output_type": "execute_result"
    }
   ],
   "source": [
    "type(image), image.shape, image.min(), image.max()"
   ]
  },
  {
   "cell_type": "code",
   "execution_count": 27,
   "metadata": {
    "ExecuteTime": {
     "end_time": "2023-05-05T17:40:17.095535472Z",
     "start_time": "2023-05-05T17:40:17.085572949Z"
    },
    "collapsed": false,
    "jupyter": {
     "outputs_hidden": false
    }
   },
   "outputs": [
    {
     "data": {
      "text/plain": [
       "functools.partial(<function preprocess_input at 0x7fb470af3e20>, input_space='RGB', input_range=[0, 1], mean=[0.485, 0.456, 0.406], std=[0.229, 0.224, 0.225])"
      ]
     },
     "execution_count": 27,
     "metadata": {},
     "output_type": "execute_result"
    }
   ],
   "source": [
    "preprocess_fn = smp.encoders.get_preprocessing_fn(ENCODER_NAME, pretrained='imagenet')\n",
    "preprocess_fn"
   ]
  },
  {
   "cell_type": "code",
   "execution_count": 28,
   "metadata": {
    "ExecuteTime": {
     "end_time": "2023-05-05T17:40:25.377388920Z",
     "start_time": "2023-05-05T17:40:25.302749643Z"
    },
    "collapsed": false,
    "jupyter": {
     "outputs_hidden": false
    }
   },
   "outputs": [
    {
     "data": {
      "text/plain": [
       "(numpy.ndarray, (1536, 2048, 3), -2.1179039301310043, 2.6399999999999997)"
      ]
     },
     "execution_count": 28,
     "metadata": {},
     "output_type": "execute_result"
    }
   ],
   "source": [
    "image_pre = preprocess_fn(image)\n",
    "type(image_pre), image_pre.shape, image_pre.min(), image_pre.max()"
   ]
  },
  {
   "cell_type": "code",
   "execution_count": 32,
   "metadata": {
    "ExecuteTime": {
     "end_time": "2023-05-05T17:42:32.600095020Z",
     "start_time": "2023-05-05T17:42:25.719194185Z"
    },
    "collapsed": false,
    "jupyter": {
     "outputs_hidden": false
    }
   },
   "outputs": [],
   "source": [
    "simple_dataset = SimpleWallADE20KDataset(root=config.DATA_ROOT, mode='all')"
   ]
  },
  {
   "cell_type": "code",
   "execution_count": 34,
   "metadata": {
    "ExecuteTime": {
     "end_time": "2023-05-05T17:42:40.270499382Z",
     "start_time": "2023-05-05T17:42:40.198890205Z"
    },
    "collapsed": false,
    "jupyter": {
     "outputs_hidden": false
    }
   },
   "outputs": [
    {
     "data": {
      "text/plain": [
       "(numpy.ndarray, (512, 512, 3), 1, 255)"
      ]
     },
     "execution_count": 34,
     "metadata": {},
     "output_type": "execute_result"
    }
   ],
   "source": [
    "image, mask = simple_dataset[0]\n",
    "image = image.squeeze().transpose((1, 2, 0))\n",
    "type(image), image.shape, image.min(), image.max()"
   ]
  },
  {
   "cell_type": "code",
   "execution_count": 35,
   "metadata": {
    "ExecuteTime": {
     "end_time": "2023-05-05T17:43:32.085458073Z",
     "start_time": "2023-05-05T17:43:32.079135430Z"
    },
    "collapsed": false,
    "jupyter": {
     "outputs_hidden": false
    }
   },
   "outputs": [
    {
     "data": {
      "text/plain": [
       "{'input_space': 'RGB',\n",
       " 'input_range': [0, 1],\n",
       " 'mean': [0.485, 0.456, 0.406],\n",
       " 'std': [0.229, 0.224, 0.225]}"
      ]
     },
     "execution_count": 35,
     "metadata": {},
     "output_type": "execute_result"
    }
   ],
   "source": [
    "params = smp.encoders.get_preprocessing_params(encoder_name=ENCODER_NAME)\n",
    "params"
   ]
  },
  {
   "cell_type": "code",
   "execution_count": 36,
   "metadata": {
    "ExecuteTime": {
     "end_time": "2023-05-05T17:45:40.022637283Z",
     "start_time": "2023-05-05T17:45:39.255574669Z"
    },
    "collapsed": false,
    "jupyter": {
     "outputs_hidden": false
    }
   },
   "outputs": [],
   "source": [
    "dataloader = DataLoader(simple_dataset, batch_size=1, shuffle=True, num_workers=20)\n",
    "image, mask = next(iter(dataloader))"
   ]
  },
  {
   "cell_type": "code",
   "execution_count": 37,
   "metadata": {
    "ExecuteTime": {
     "end_time": "2023-05-05T17:45:55.925783547Z",
     "start_time": "2023-05-05T17:45:55.876311702Z"
    },
    "collapsed": false,
    "jupyter": {
     "outputs_hidden": false
    }
   },
   "outputs": [],
   "source": [
    "std = torch.tensor(params[\"std\"]).view(1, 3, 1, 1)\n",
    "mean = torch.tensor(params[\"mean\"]).view(1, 3, 1, 1)"
   ]
  },
  {
   "cell_type": "code",
   "execution_count": 38,
   "metadata": {
    "ExecuteTime": {
     "end_time": "2023-05-05T17:46:09.210325548Z",
     "start_time": "2023-05-05T17:46:09.193499919Z"
    },
    "collapsed": false,
    "jupyter": {
     "outputs_hidden": false
    }
   },
   "outputs": [],
   "source": [
    "image_pre = (image - mean) / std"
   ]
  },
  {
   "cell_type": "code",
   "execution_count": null,
   "metadata": {
    "collapsed": false,
    "jupyter": {
     "outputs_hidden": false
    }
   },
   "outputs": [],
   "source": []
  },
  {
   "cell_type": "code",
   "execution_count": 2,
   "metadata": {
    "ExecuteTime": {
     "end_time": "2023-05-10T10:18:37.874522709Z",
     "start_time": "2023-05-10T10:18:37.867673448Z"
    },
    "collapsed": false,
    "jupyter": {
     "outputs_hidden": false
    }
   },
   "outputs": [
    {
     "data": {
      "text/plain": [
       "'DiceLoss()'"
      ]
     },
     "execution_count": 2,
     "metadata": {},
     "output_type": "execute_result"
    }
   ],
   "source": [
    "repr(smp.losses.DiceLoss(smp.losses.BINARY_MODE, from_logits=True))"
   ]
  },
  {
   "cell_type": "code",
   "execution_count": null,
   "metadata": {
    "collapsed": false,
    "jupyter": {
     "outputs_hidden": false
    }
   },
   "outputs": [],
   "source": []
  },
  {
   "cell_type": "code",
   "execution_count": null,
   "metadata": {
    "collapsed": false,
    "jupyter": {
     "outputs_hidden": false
    }
   },
   "outputs": [],
   "source": [
    "from segmentation_models_pytorch.datasets import SimpleOxfordPetDataset"
   ]
  },
  {
   "cell_type": "code",
   "execution_count": null,
   "metadata": {
    "collapsed": false,
    "jupyter": {
     "outputs_hidden": false
    }
   },
   "outputs": [],
   "source": [
    "# Download data\n",
    "root = \"./dataset\"\n",
    "SimpleOxfordPetDataset.download(root)"
   ]
  },
  {
   "cell_type": "code",
   "execution_count": null,
   "metadata": {
    "collapsed": false,
    "jupyter": {
     "outputs_hidden": false
    }
   },
   "outputs": [],
   "source": [
    "sample = train_dataset[0]"
   ]
  },
  {
   "cell_type": "code",
   "execution_count": null,
   "metadata": {
    "collapsed": false,
    "jupyter": {
     "outputs_hidden": false
    }
   },
   "outputs": [],
   "source": []
  },
  {
   "cell_type": "code",
   "execution_count": null,
   "metadata": {
    "collapsed": false,
    "jupyter": {
     "outputs_hidden": false
    }
   },
   "outputs": [],
   "source": []
  },
  {
   "cell_type": "code",
   "execution_count": 4,
   "metadata": {
    "ExecuteTime": {
     "end_time": "2023-05-12T06:05:40.344981529Z",
     "start_time": "2023-05-12T06:05:40.283407220Z"
    },
    "collapsed": false,
    "jupyter": {
     "outputs_hidden": false
    }
   },
   "outputs": [],
   "source": [
    "optimizer = torch.optim.SGD(model.parameters(), lr=1e-3, weight_decay=1e-4, momentum=0.9)\n",
    "scheduler = torch.optim.lr_scheduler.CosineAnnealingWarmRestarts(T_0=10, T_mult=2, optimizer=optimizer)"
   ]
  },
  {
   "cell_type": "code",
   "execution_count": 7,
   "metadata": {
    "ExecuteTime": {
     "end_time": "2023-05-12T06:06:03.019752419Z",
     "start_time": "2023-05-12T06:06:03.005781885Z"
    },
    "collapsed": false,
    "jupyter": {
     "outputs_hidden": false
    }
   },
   "outputs": [
    {
     "name": "stdout",
     "output_type": "stream",
     "text": [
      "SGD (\n",
      "Parameter Group 0\n",
      "    dampening: 0\n",
      "    differentiable: False\n",
      "    foreach: None\n",
      "    initial_lr: 0.001\n",
      "    lr: 0.001\n",
      "    maximize: False\n",
      "    momentum: 0.9\n",
      "    nesterov: False\n",
      "    weight_decay: 0.0001\n",
      ")\n"
     ]
    }
   ],
   "source": [
    "print(repr(optimizer))"
   ]
  },
  {
   "cell_type": "code",
   "execution_count": 23,
   "metadata": {
    "ExecuteTime": {
     "end_time": "2023-05-12T06:11:36.676100756Z",
     "start_time": "2023-05-12T06:11:36.671836682Z"
    },
    "collapsed": false,
    "jupyter": {
     "outputs_hidden": false
    }
   },
   "outputs": [
    {
     "name": "stdout",
     "output_type": "stream",
     "text": [
      "{'T_0': 10, 'T_i': 10, 'T_mult': 2, 'eta_min': 0, 'T_cur': 0, 'base_lrs': [0.001], 'last_epoch': 0, 'verbose': False, '_step_count': 0, '_get_lr_called_within_step': False, '_last_lr': [0.001]}\n"
     ]
    }
   ],
   "source": [
    "print(scheduler.state_dict())"
   ]
  },
  {
   "cell_type": "code",
   "execution_count": 21,
   "metadata": {
    "ExecuteTime": {
     "end_time": "2023-05-12T06:10:58.793629392Z",
     "start_time": "2023-05-12T06:10:58.788866026Z"
    },
    "collapsed": false,
    "jupyter": {
     "outputs_hidden": false
    }
   },
   "outputs": [
    {
     "name": "stdout",
     "output_type": "stream",
     "text": [
      "CosineAnnealingWarmRestarts\n"
     ]
    }
   ],
   "source": [
    "print(type(scheduler).__name__)"
   ]
  },
  {
   "cell_type": "code",
   "execution_count": 24,
   "metadata": {
    "ExecuteTime": {
     "end_time": "2023-05-12T06:11:42.183488622Z",
     "start_time": "2023-05-12T06:11:42.179664014Z"
    },
    "collapsed": false,
    "jupyter": {
     "outputs_hidden": false
    }
   },
   "outputs": [
    {
     "data": {
      "text/plain": [
       "{'T_0': 10,\n",
       " 'T_i': 10,\n",
       " 'T_mult': 2,\n",
       " 'eta_min': 0,\n",
       " 'T_cur': 0,\n",
       " 'optimizer': SGD (\n",
       " Parameter Group 0\n",
       "     dampening: 0\n",
       "     differentiable: False\n",
       "     foreach: None\n",
       "     initial_lr: 0.001\n",
       "     lr: 0.001\n",
       "     maximize: False\n",
       "     momentum: 0.9\n",
       "     nesterov: False\n",
       "     weight_decay: 0.0001\n",
       " ),\n",
       " 'base_lrs': [0.001],\n",
       " 'last_epoch': 0,\n",
       " 'verbose': False,\n",
       " '_step_count': 0,\n",
       " '_get_lr_called_within_step': False,\n",
       " '_last_lr': [0.001]}"
      ]
     },
     "execution_count": 24,
     "metadata": {},
     "output_type": "execute_result"
    }
   ],
   "source": [
    "scheduler.__dict__"
   ]
  },
  {
   "cell_type": "code",
   "execution_count": 9,
   "metadata": {
    "ExecuteTime": {
     "end_time": "2023-05-12T06:08:09.252093723Z",
     "start_time": "2023-05-12T06:08:09.189928852Z"
    },
    "collapsed": false,
    "jupyter": {
     "outputs_hidden": false
    }
   },
   "outputs": [
    {
     "name": "stdout",
     "output_type": "stream",
     "text": [
      "SGD\n"
     ]
    }
   ],
   "source": [
    "print(type(optimizer).__name__)"
   ]
  },
  {
   "cell_type": "code",
   "execution_count": 12,
   "metadata": {
    "ExecuteTime": {
     "end_time": "2023-05-12T06:08:49.019640882Z",
     "start_time": "2023-05-12T06:08:49.016155021Z"
    },
    "collapsed": false,
    "jupyter": {
     "outputs_hidden": false
    }
   },
   "outputs": [
    {
     "name": "stdout",
     "output_type": "stream",
     "text": [
      "dict_keys(['params', 'lr', 'momentum', 'dampening', 'weight_decay', 'nesterov', 'maximize', 'foreach', 'differentiable', 'initial_lr'])\n"
     ]
    }
   ],
   "source": [
    "print(optimizer.param_groups[0].keys())"
   ]
  },
  {
   "cell_type": "code",
   "execution_count": 18,
   "metadata": {
    "ExecuteTime": {
     "end_time": "2023-05-12T06:09:22.819143845Z",
     "start_time": "2023-05-12T06:09:22.804733771Z"
    },
    "collapsed": false,
    "jupyter": {
     "outputs_hidden": false
    }
   },
   "outputs": [
    {
     "data": {
      "text/plain": [
       "False"
      ]
     },
     "execution_count": 18,
     "metadata": {},
     "output_type": "execute_result"
    }
   ],
   "source": [
    "optimizer.param_groups[0]['nesterov']"
   ]
  },
  {
   "cell_type": "code",
   "execution_count": 20,
   "metadata": {
    "ExecuteTime": {
     "end_time": "2023-05-12T06:10:00.059863803Z",
     "start_time": "2023-05-12T06:10:00.056722345Z"
    },
    "collapsed": false,
    "jupyter": {
     "outputs_hidden": false
    }
   },
   "outputs": [
    {
     "name": "stdout",
     "output_type": "stream",
     "text": [
      "optimizer/lr 0.001\n",
      "optimizer/momentum 0.9\n",
      "optimizer/dampening 0\n",
      "optimizer/weight_decay 0.0001\n",
      "optimizer/nesterov False\n",
      "optimizer/maximize False\n",
      "optimizer/foreach None\n",
      "optimizer/differentiable False\n",
      "optimizer/initial_lr 0.001\n"
     ]
    }
   ],
   "source": [
    "for (key, value) in optimizer.param_groups[0].items():\n",
    "    if key == 'params':\n",
    "        continue\n",
    "    print(f'optimizer/{key}', value)"
   ]
  },
  {
   "cell_type": "code",
   "execution_count": null,
   "metadata": {
    "collapsed": false,
    "jupyter": {
     "outputs_hidden": false
    }
   },
   "outputs": [],
   "source": []
  }
 ],
 "metadata": {
  "kernelspec": {
   "display_name": "Python 3 (ipykernel)",
   "language": "python",
   "name": "python3"
  },
  "language_info": {
   "codemirror_mode": {
    "name": "ipython",
    "version": 3
   },
   "file_extension": ".py",
   "mimetype": "text/x-python",
   "name": "python",
   "nbconvert_exporter": "python",
   "pygments_lexer": "ipython3",
   "version": "3.10.11"
  }
 },
 "nbformat": 4,
 "nbformat_minor": 4
}
