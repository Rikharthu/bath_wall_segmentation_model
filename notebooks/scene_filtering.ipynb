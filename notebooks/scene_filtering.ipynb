{
 "cells": [
  {
   "cell_type": "code",
   "execution_count": null,
   "metadata": {
    "ExecuteTime": {
     "end_time": "2023-05-05T11:11:20.212771Z",
     "start_time": "2023-05-05T11:11:19.019923Z"
    },
    "collapsed": true
   },
   "outputs": [],
   "source": [
    "import os\n",
    "\n",
    "import matplotlib.pyplot as plt\n",
    "from matplotlib.backends.backend_agg import FigureCanvasAgg\n",
    "from matplotlib.figure import Figure\n",
    "from src.dataset import ADE20KDataset, WallADE20KDataset, SimpleWallADE20KDataset\n",
    "from IPython.display import IFrame\n",
    "from ipywidgets import Output, Button, Layout, HBox, Image, VBox, IntProgress, Label\n",
    "from ipywidgets import widgets\n",
    "from IPython.display import display, clear_output\n",
    "import PIL\n",
    "import io\n",
    "import os\n",
    "\n",
    "import numpy as np\n",
    "\n",
    "%matplotlib inline"
   ]
  },
  {
   "cell_type": "code",
   "execution_count": null,
   "metadata": {
    "ExecuteTime": {
     "end_time": "2023-05-05T11:11:20.215025Z",
     "start_time": "2023-05-05T11:11:20.213284Z"
    },
    "collapsed": false
   },
   "outputs": [],
   "source": [
    "DATA_ROOT = \"../dataset/ADE20K_2021_17_01\""
   ]
  },
  {
   "cell_type": "code",
   "execution_count": null,
   "metadata": {
    "ExecuteTime": {
     "end_time": "2023-05-05T11:11:20.219066Z",
     "start_time": "2023-05-05T11:11:20.217508Z"
    },
    "collapsed": false
   },
   "outputs": [],
   "source": [
    "def display_sample_information(dataset, indices, show_mask=True):\n",
    "    height = 6\n",
    "    width = 6\n",
    "\n",
    "    fig = Figure(figsize=(12, 12), dpi=100)\n",
    "    fig.tight_layout()\n",
    "    canvas = FigureCanvasAgg(fig)\n",
    "\n",
    "    indices = indices[:int(width * height / 2)]\n",
    "    for i, idx in enumerate(indices):\n",
    "        ax_idx = i * 2 + 1\n",
    "        mask_ax_idx = ax_idx + 1\n",
    "        ax = fig.add_subplot(height, width, ax_idx)\n",
    "        mask_ax = fig.add_subplot(height, width, mask_ax_idx)\n",
    "        ax.axis('off')\n",
    "        mask_ax.axis('off')\n",
    "\n",
    "        image, mask = dataset[idx]\n",
    "\n",
    "        if image.shape[0] == 3:\n",
    "            image = image.transpose((1, 2, 0))\n",
    "        if len(mask.shape) == 3:\n",
    "            mask = mask.squeeze(axis=0)\n",
    "\n",
    "        ax.imshow(image)\n",
    "        mask_ax.imshow(mask)\n",
    "\n",
    "    canvas.draw()\n",
    "    buf = canvas.buffer_rgba()\n",
    "    return np.asarray(buf)"
   ]
  },
  {
   "cell_type": "code",
   "execution_count": null,
   "metadata": {
    "ExecuteTime": {
     "end_time": "2023-05-05T11:11:29.809078Z",
     "start_time": "2023-05-05T11:11:20.219613Z"
    },
    "collapsed": false
   },
   "outputs": [],
   "source": [
    "wall_dataset = WallADE20KDataset(DATA_ROOT, mode='all')"
   ]
  },
  {
   "cell_type": "code",
   "execution_count": null,
   "metadata": {
    "ExecuteTime": {
     "end_time": "2023-05-05T11:11:30.818413Z",
     "start_time": "2023-05-05T11:11:29.815048Z"
    },
    "collapsed": false
   },
   "outputs": [],
   "source": [
    "image = display_sample_information(wall_dataset, [0, 1, 2, 3])\n",
    "plt.figure(figsize=(15, 15))\n",
    "plt.imshow(image)\n",
    "plt.axis('off');\n"
   ]
  },
  {
   "cell_type": "code",
   "execution_count": null,
   "metadata": {
    "ExecuteTime": {
     "end_time": "2023-05-05T11:11:30.820464Z",
     "start_time": "2023-05-05T11:11:30.817919Z"
    },
    "collapsed": false
   },
   "outputs": [],
   "source": [
    "def image_to_byte_array(image: PIL.Image) -> bytes:\n",
    "    image_byte_arr = io.BytesIO()\n",
    "    image.save(image_byte_arr, format='png')\n",
    "    image_byte_arr = image_byte_arr.getvalue()\n",
    "    return image_byte_arr"
   ]
  },
  {
   "cell_type": "code",
   "execution_count": null,
   "metadata": {
    "ExecuteTime": {
     "end_time": "2023-05-05T11:13:15.498101Z",
     "start_time": "2023-05-05T11:13:15.494366Z"
    },
    "collapsed": false
   },
   "outputs": [],
   "source": [
    "class SceneFilteringTool:\n",
    "\n",
    "    def __init__(self, dataset: ADE20KDataset, output_dir):\n",
    "        self.dataset = dataset\n",
    "\n",
    "        self.scene_indices = {}\n",
    "        self._build_scene_indices_dict()\n",
    "        self.scene_names = list(sorted(self.scene_indices.keys()))\n",
    "        self.position = 0\n",
    "\n",
    "        self.output_dir = output_dir\n",
    "        os.makedirs(self.output_dir, exist_ok=True)\n",
    "\n",
    "        # Remove annotated scenes\n",
    "        self._remove_annotated_scenes('whitelist')\n",
    "        self._remove_annotated_scenes('maybe')\n",
    "        self._remove_annotated_scenes('blacklist')\n",
    "\n",
    "    def _remove_annotated_scenes(self, label: str):\n",
    "        filepath = self._get_output_file_for_label(label)\n",
    "        if not os.path.exists(filepath):\n",
    "            return\n",
    "        with open(filepath) as f:\n",
    "            scenes = f.read().splitlines()\n",
    "            self.scene_names = [s for s in self.scene_names if s not in scenes]\n",
    "\n",
    "    def _get_output_file_for_label(self, label: str):\n",
    "        return os.path.join(self.output_dir, f'{label}.txt')\n",
    "\n",
    "    def _build_scene_indices_dict(self):\n",
    "        for i in range(0, len(self.dataset)):\n",
    "            scene = self.dataset.index['scene'][i]\n",
    "            if scene not in self.scene_indices:\n",
    "                self.scene_indices[scene] = [i]\n",
    "            else:\n",
    "                self.scene_indices[scene].append(i)\n",
    "\n",
    "    def _next_scene(self, label):\n",
    "        # Save current scene label\n",
    "        scene = self.scene_names[self.position]\n",
    "        with open(self._get_output_file_for_label(label), 'a') as f:\n",
    "            f.write(f'{scene}\\n')\n",
    "\n",
    "        self.position += 1\n",
    "        if self.position == len(self.dataset) - 1:\n",
    "            self.position = 0\n",
    "\n",
    "        with self.frame:\n",
    "            clear_output(wait=True)\n",
    "            display(self._create_image_widget())\n",
    "\n",
    "    def _create_image_widget(self):\n",
    "        scene = self.scene_names[self.position]\n",
    "        sample_indices = self.scene_indices[scene]\n",
    "\n",
    "        image = display_sample_information(self.dataset, sample_indices)\n",
    "        image = PIL.Image.fromarray(image)\n",
    "        image = image_to_byte_array(image)\n",
    "        scene_label = Label(scene)\n",
    "\n",
    "        progress = IntProgress(value=self.position, min=0, max=len(self.scene_names) - 1)\n",
    "        progress_label = Label(f'{self.position+1}/{len(self.scene_names)}')\n",
    "        progress_box = HBox((progress, progress_label))\n",
    "\n",
    "        widget = VBox((progress_box, scene_label, Image(value=image)))\n",
    "\n",
    "        return widget\n",
    "\n",
    "    def start(self):\n",
    "        # self.frame = Output(layout=Layout(height=\"700px\", max_width=\"300px\"))\n",
    "        self.frame = Output()\n",
    "\n",
    "        whitelist_button = Button(description=\"WHITELIST\")\n",
    "        whitelist_button.on_click(lambda b: self._next_scene('whitelist'))\n",
    "\n",
    "        maybe_button = Button(description=\"MAYBE\")\n",
    "        maybe_button.on_click(lambda b: self._next_scene('maybe'))\n",
    "\n",
    "        blacklist_button = Button(description=\"BLACKLIST\")\n",
    "        blacklist_button.on_click(lambda b: self._next_scene('blacklist'))\n",
    "\n",
    "        buttons_row = HBox((blacklist_button, maybe_button, whitelist_button))\n",
    "\n",
    "        image_widget = self._create_image_widget()\n",
    "        with self.frame:\n",
    "            display(image_widget)\n",
    "\n",
    "        display(buttons_row)\n",
    "        display(self.frame)"
   ]
  },
  {
   "cell_type": "code",
   "execution_count": null,
   "metadata": {
    "ExecuteTime": {
     "end_time": "2023-05-05T11:13:16.092800Z",
     "start_time": "2023-05-05T11:13:15.979058Z"
    },
    "collapsed": false
   },
   "outputs": [],
   "source": [
    "tool = SceneFilteringTool(dataset=wall_dataset, output_dir='label')\n",
    "tool.start()"
   ]
  },
  {
   "cell_type": "code",
   "execution_count": null,
   "metadata": {
    "ExecuteTime": {
     "end_time": "2023-05-05T13:26:19.577051Z",
     "start_time": "2023-05-05T13:26:19.570544Z"
    },
    "collapsed": false
   },
   "outputs": [],
   "source": []
  },
  {
   "cell_type": "code",
   "execution_count": null,
   "metadata": {
    "ExecuteTime": {
     "end_time": "2023-05-05T13:28:23.353541Z",
     "start_time": "2023-05-05T13:28:23.347494Z"
    },
    "collapsed": false
   },
   "outputs": [],
   "source": [
    "from pprint import pprint\n",
    "\n",
    "with open('label/whitelist.txt', 'r') as f:\n",
    "    lines = f.read().splitlines()\n",
    "print(lines)"
   ]
  },
  {
   "cell_type": "code",
   "execution_count": null,
   "metadata": {
    "collapsed": false
   },
   "outputs": [],
   "source": []
  }
 ],
 "metadata": {
  "kernelspec": {
   "display_name": "Python 3",
   "language": "python",
   "name": "python3"
  },
  "language_info": {
   "codemirror_mode": {
    "name": "ipython",
    "version": 2
   },
   "file_extension": ".py",
   "mimetype": "text/x-python",
   "name": "python",
   "nbconvert_exporter": "python",
   "pygments_lexer": "ipython2",
   "version": "2.7.6"
  }
 },
 "nbformat": 4,
 "nbformat_minor": 0
}
