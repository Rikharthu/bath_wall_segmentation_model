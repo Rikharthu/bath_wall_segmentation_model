{
 "cells": [
  {
   "cell_type": "code",
   "execution_count": 1,
   "metadata": {
    "ExecuteTime": {
     "end_time": "2023-05-13T12:20:16.611484689Z",
     "start_time": "2023-05-13T12:20:13.842568539Z"
    },
    "colab": {
     "base_uri": "https://localhost:8080/"
    },
    "id": "VuwCVQ6eyjvE",
    "outputId": "1e60bdfc-81df-4628-9062-bd9bf012397b",
    "tags": []
   },
   "outputs": [
    {
     "name": "stderr",
     "output_type": "stream",
     "text": [
      "scikit-learn version 1.2.2 is not supported. Minimum required version: 0.17. Maximum required version: 1.1.2. Disabling scikit-learn conversion API.\n"
     ]
    }
   ],
   "source": [
    "import os\n",
    "\n",
    "os.environ[\"PYTORCH_CUDA_ALLOC_CONF\"] = \"max_split_size_mb:512\"\n",
    "os.environ[\"CUDA_VISIBLE_DEVICES\"] = '0'\n",
    "\n",
    "import torch\n",
    "\n",
    "torch.set_float32_matmul_precision(\"medium\")  # Try \"high\" as well\n",
    "\n",
    "import sys\n",
    "\n",
    "try:\n",
    "    import src\n",
    "except:\n",
    "    sys.path.append('../')\n",
    "    import src\n",
    "\n",
    "\n",
    "import matplotlib.pyplot as plt\n",
    "\n",
    "from torch.utils.data import DataLoader\n",
    "from pytorch_lightning.loggers import MLFlowLogger\n",
    "import pytorch_lightning as pl\n",
    "import mlflow\n",
    "from typing import Tuple, List\n",
    "import numpy as np\n",
    "\n",
    "import coremltools as ct\n",
    "\n",
    "from src.dataset import SimpleWallADE20KDataset\n",
    "from src.model import WallModel\n",
    "from src import config\n",
    "from src.transform import get_preprocessing_transform, get_train_augmentations, get_val_augmentations, \\\n",
    "    get_val_augmentations_single\n",
    "from src.callbacks import ModelCheckpoint, EarlyStopping, MLFlowImageLogging"
   ]
  },
  {
   "cell_type": "code",
   "execution_count": 2,
   "metadata": {
    "ExecuteTime": {
     "end_time": "2023-05-13T12:20:38.907245254Z",
     "start_time": "2023-05-13T12:20:16.613089368Z"
    },
    "id": "6c8S1bpfyzmZ",
    "tags": []
   },
   "outputs": [
    {
     "name": "stdout",
     "output_type": "stream",
     "text": [
      "Resuming from checkpoint: ./epoch=82-train_loss=0.1413-val_loss=0.1837-train_dataset_iou=0.7249-val_dataset_iou=0.7027.ckpt\n"
     ]
    },
    {
     "name": "stderr",
     "output_type": "stream",
     "text": [
      "/home/ricardsku/miniconda3/envs/ml/lib/python3.10/site-packages/albumentations/augmentations/transforms.py:1149: FutureWarning: This class has been deprecated. Please use RandomBrightnessContrast\n",
      "  warnings.warn(\n",
      "/home/ricardsku/miniconda3/envs/ml/lib/python3.10/site-packages/albumentations/augmentations/transforms.py:1175: FutureWarning: RandomContrast has been deprecated. Please use RandomBrightnessContrast\n",
      "  warnings.warn(\n"
     ]
    },
    {
     "data": {
      "text/plain": [
       "{'input_space': 'RGB',\n",
       " 'input_range': [0, 1],\n",
       " 'mean': [0.485, 0.456, 0.406],\n",
       " 'std': [0.229, 0.224, 0.225]}"
      ]
     },
     "execution_count": 2,
     "metadata": {},
     "output_type": "execute_result"
    }
   ],
   "source": [
    "# TODO: check if encoder is frozen and try unfreezing it\n",
    "if config.RESUME_FROM_CHECKPOINT_PATH is not None:\n",
    "    print(f'Resuming from checkpoint: {config.RESUME_FROM_CHECKPOINT_PATH}')\n",
    "    wall_model = WallModel.load_from_checkpoint(config.RESUME_FROM_CHECKPOINT_PATH, init_datasets=True)\n",
    "else:\n",
    "    print('Training from scratch')\n",
    "    wall_model = WallModel(\n",
    "        architecture=config.ARCHITECTURE,\n",
    "        encoder_name=config.ENCODER,\n",
    "        in_channels=3,\n",
    "        out_classes=1,\n",
    "        learning_rate=config.LEARNING_RATE,\n",
    "        init_datasets=True\n",
    "    )\n",
    "wall_model.params"
   ]
  },
  {
   "cell_type": "code",
   "execution_count": 3,
   "metadata": {
    "ExecuteTime": {
     "end_time": "2023-05-13T12:20:38.907572194Z",
     "start_time": "2023-05-13T12:20:38.906913367Z"
    },
    "collapsed": false,
    "jupyter": {
     "outputs_hidden": false
    },
    "tags": []
   },
   "outputs": [
    {
     "name": "stdout",
     "output_type": "stream",
     "text": [
      "Not freezing encoder\n"
     ]
    }
   ],
   "source": [
    "if config.FREEZE_ENCODER:\n",
    "    print(\"Freezing encoder params\")\n",
    "    for p in wall_model.model.encoder.parameters():\n",
    "        p.requires_grad = False\n",
    "else:\n",
    "    print('Not freezing encoder')"
   ]
  },
  {
   "cell_type": "code",
   "execution_count": 4,
   "metadata": {
    "ExecuteTime": {
     "end_time": "2023-05-13T12:20:38.944264788Z",
     "start_time": "2023-05-13T12:20:38.908525564Z"
    },
    "id": "yI8Ba3v95Sql",
    "tags": []
   },
   "outputs": [],
   "source": [
    "checkpoint_callback = ModelCheckpoint(\n",
    "    dirpath=os.getcwd(),\n",
    "    filename='{epoch}-{train_loss:.4f}-{val_loss:.4f}-{train_dataset_iou:.4f}-{val_dataset_iou:.4f}',\n",
    "    save_top_k=1,\n",
    "    verbose=True,\n",
    "    # monitor='val_loss',\n",
    "    # mode='min',\n",
    "    monitor='val_dataset_iou',\n",
    "    mode='max'\n",
    ")\n",
    "\n",
    "# TODO: save both best and last checkpoint (to conitnue training)\n",
    "\n",
    "# earlystop_callback = EarlyStopping(monitor=\"val_loss\", patience=config.EARLYSTOP_PATIENCE)\n",
    "earlystop_callback = EarlyStopping(\n",
    "    # monitor=\"val_loss\",\n",
    "    # mode='min',\n",
    "    monitor=\"val_dataset_iou\",\n",
    "    mode='max',\n",
    "    patience=config.EARLYSTOP_PATIENCE\n",
    ")\n",
    "\n",
    "MLFLOW_EXPERIMENT_NAME = 'wall_segmentation'\n",
    "\n",
    "# TODO: use model name from config.py\n",
    "# logger = TensorBoardLogger(\"tb_logs\", name=\"wall_model\")"
   ]
  },
  {
   "cell_type": "code",
   "execution_count": 5,
   "metadata": {
    "ExecuteTime": {
     "end_time": "2023-05-13T12:20:38.944920247Z",
     "start_time": "2023-05-13T12:20:38.929572017Z"
    },
    "id": "KagW3f-y5Ss6",
    "tags": []
   },
   "outputs": [],
   "source": [
    "# TODO: Adjust parameters as described in MobileOne and DeepLab papers\n",
    "# MobileOne:\n",
    "#  - weight decay in early stages (probably not needed, since we do transfer learning)\n",
    "#  - cosine schedule for learning rate\n",
    "#  - S0 and S1 we use standard augmentation – random resized cropping and horizontal flipping.\n",
    "#  - We also use EMA (Exponential Moving Average) weight averaging with decay constant of 0.9995 for training all versions of MobileOne.\n",
    "#  - We use MobileOne as the backbone for a Deeplab V3 segmentation network [4] using the cvnets library [45].\n",
    "#  - The VOC models were trained on the augmented Pascal VOC dataset [16] for 50 epochs following the training procedure of [45] (MobileVIT). \n",
    "#    The ADE 20k [65] models were trained using the same hyperparameters and augmentations\n",
    "# DeepLab:\n",
    "#  - TODO\n",
    "\n",
    "# TODO: try this config: https://github.com/apple/ml-cvnets/blob/main/config/segmentation/ade20k/deeplabv3_mobilenetv2.yaml\n",
    "# batch-size 4 per GPU (4 GPUs => effective 16 batch size)\n",
    "# max image size: 1024, short side min: 256, short side max: 768\n",
    "# loss: cross-entropy\n",
    "# lr scheduler: cosine, max\n",
    "# aspp_out_channels: 512\n",
    "# aspp_rates: (12, 24, 36)\n",
    "# DeepLabV3 (uses encoder, hecne DeepLabV3+)\n",
    "# Backbone: ResNet50\n",
    "# optimizer: SGD, weight_decay: 1e-4, no_decay_bn_filter_bias: true, momentum: 0.9\n",
    "\n",
    "# TODO: acknowledge that we calculate metrics incorrectly - we pad all images to square form, thus effectively increasing share of 'background' class\n",
    "#   Ideally we would only consider original image size during calculations."
   ]
  },
  {
   "cell_type": "code",
   "execution_count": 6,
   "metadata": {
    "ExecuteTime": {
     "end_time": "2023-05-13T12:20:42.080771109Z",
     "start_time": "2023-05-13T12:20:38.944459850Z"
    },
    "collapsed": false,
    "jupyter": {
     "outputs_hidden": false
    },
    "tags": []
   },
   "outputs": [],
   "source": [
    "NUM_IMAGES_LOG = 32\n",
    "\n",
    "val_augmentation_fn = wall_model.val_dataset.augmentation_fn\n",
    "\n",
    "demo_dataset = SimpleWallADE20KDataset(\n",
    "    root=config.DATA_ROOT,\n",
    "    length=NUM_IMAGES_LOG,\n",
    "    preprocessing_fn=get_preprocessing_transform(config.ENCODER),\n",
    "    augmentation_fn=val_augmentation_fn,\n",
    "    mode='val'\n",
    ")\n",
    "demo_dataset_vis = SimpleWallADE20KDataset(\n",
    "    root=config.DATA_ROOT,\n",
    "    length=NUM_IMAGES_LOG,\n",
    "    preprocessing_fn=None,\n",
    "    augmentation_fn=val_augmentation_fn,\n",
    "    mode='val'\n",
    ")\n",
    "demo_dataloader = DataLoader(demo_dataset, batch_size=1, shuffle=False)\n",
    "\n",
    "imagelog_callback = MLFlowImageLogging(dataset=demo_dataset, dataset_vis=demo_dataset_vis)"
   ]
  },
  {
   "cell_type": "code",
   "execution_count": null,
   "metadata": {
    "ExecuteTime": {
     "end_time": "2023-05-14T09:32:21.082445186Z",
     "start_time": "2023-05-13T12:20:42.083897857Z"
    },
    "colab": {
     "base_uri": "https://localhost:8080/",
     "height": 317,
     "referenced_widgets": [
      "95a0b184c0c243a18ac8675bf2f28058",
      "302d0cafe6f74406a2693fabbdab09f5",
      "338ac979520c42bbbc9037dd66037285",
      "fb5a25c466704e308bc146468028bbf4",
      "65447da4a718445dbabd498989e33ea1",
      "ecee03b9e39d4a7c8e29e49a2cf38b22",
      "574a12afb80449219dfb3467ac6d97f5",
      "8adc7c285f6945d6bc4194b5a3d2fbf8",
      "0c8699892d3a4379ac2079e31694c985",
      "c4b8f059656c4fd5a4487d7b3966d368",
      "b6b070b037f448d99b9d80f741a9c3a7",
      "e55d387e9a314b6baf988c310728785b",
      "269501bbdeb4450aa200af474e0c6c59",
      "a815db76a2e342329b9f3978769938c0",
      "96fa504e65c14d2c948e8ac0a07855c2",
      "4a3edc071d2148deb85becb7e22c9b09",
      "b33a513ec4b944f9ae7a8eb1de70408b",
      "c70b8befafa544ceb59f3b2f999a1c97",
      "7525ac0dfc4e4d579844bb5747a68f20",
      "16d106482e41496eb6842c4936d6f31a",
      "c310b93565b8476d8fe30e095789baf7",
      "6cef2ff46d1e4e1aba918e19ea85ad0d"
     ]
    },
    "id": "bGDrC5qR5owu",
    "outputId": "e6942f96-364b-4fc2-adbd-dcbf27e4270b",
    "tags": []
   },
   "outputs": [
    {
     "name": "stderr",
     "output_type": "stream",
     "text": [
      "GPU available: True (cuda), used: True\n",
      "TPU available: False, using: 0 TPU cores\n",
      "IPU available: False, using: 0 IPUs\n",
      "HPU available: False, using: 0 HPUs\n",
      "/home/ricardsku/miniconda3/envs/ml/lib/python3.10/site-packages/pytorch_lightning/callbacks/model_checkpoint.py:612: UserWarning: Checkpoint directory /home/ricardsku/Development/Bath/bath_wall_segmentation_model/notebooks exists and is not empty.\n",
      "  rank_zero_warn(f\"Checkpoint directory {dirpath} exists and is not empty.\")\n",
      "Restoring states from the checkpoint path at ./epoch=82-train_loss=0.1413-val_loss=0.1837-train_dataset_iou=0.7249-val_dataset_iou=0.7027.ckpt\n",
      "LOCAL_RANK: 0 - CUDA_VISIBLE_DEVICES: [0]\n",
      "\n",
      "  | Name  | Type          | Params\n",
      "----------------------------------------\n",
      "0 | model | DeepLabV3Plus | 11.3 M\n",
      "----------------------------------------\n",
      "11.3 M    Trainable params\n",
      "0         Non-trainable params\n",
      "11.3 M    Total params\n",
      "45.140    Total estimated model params size (MB)\n",
      "Restored all states from the checkpoint at ./epoch=82-train_loss=0.1413-val_loss=0.1837-train_dataset_iou=0.7249-val_dataset_iou=0.7027.ckpt\n"
     ]
    },
    {
     "data": {
      "application/vnd.jupyter.widget-view+json": {
       "model_id": "",
       "version_major": 2,
       "version_minor": 0
      },
      "text/plain": [
       "Sanity Checking: 0it [00:00, ?it/s]"
      ]
     },
     "metadata": {},
     "output_type": "display_data"
    },
    {
     "data": {
      "application/vnd.jupyter.widget-view+json": {
       "model_id": "51e2c164acc74749b39c154ec3a56743",
       "version_major": 2,
       "version_minor": 0
      },
      "text/plain": [
       "Training: 0it [00:00, ?it/s]"
      ]
     },
     "metadata": {},
     "output_type": "display_data"
    },
    {
     "data": {
      "application/vnd.jupyter.widget-view+json": {
       "model_id": "",
       "version_major": 2,
       "version_minor": 0
      },
      "text/plain": [
       "Validation: 0it [00:00, ?it/s]"
      ]
     },
     "metadata": {},
     "output_type": "display_data"
    },
    {
     "name": "stderr",
     "output_type": "stream",
     "text": [
      "Epoch 83, global step 231756: 'val_dataset_iou' was not in top 1\n"
     ]
    },
    {
     "data": {
      "application/vnd.jupyter.widget-view+json": {
       "model_id": "",
       "version_major": 2,
       "version_minor": 0
      },
      "text/plain": [
       "Validation: 0it [00:00, ?it/s]"
      ]
     },
     "metadata": {},
     "output_type": "display_data"
    },
    {
     "name": "stderr",
     "output_type": "stream",
     "text": [
      "Epoch 84, global step 234515: 'val_dataset_iou' was not in top 1\n"
     ]
    },
    {
     "data": {
      "application/vnd.jupyter.widget-view+json": {
       "model_id": "",
       "version_major": 2,
       "version_minor": 0
      },
      "text/plain": [
       "Validation: 0it [00:00, ?it/s]"
      ]
     },
     "metadata": {},
     "output_type": "display_data"
    },
    {
     "name": "stderr",
     "output_type": "stream",
     "text": [
      "Epoch 85, global step 237274: 'val_dataset_iou' reached 0.70634 (best 0.70634), saving model to '/home/ricardsku/Development/Bath/bath_wall_segmentation_model/notebooks/epoch=85-train_loss=0.1385-val_loss=0.1862-train_dataset_iou=0.7288-val_dataset_iou=0.7063.ckpt' as top 1\n"
     ]
    },
    {
     "data": {
      "application/vnd.jupyter.widget-view+json": {
       "model_id": "",
       "version_major": 2,
       "version_minor": 0
      },
      "text/plain": [
       "Validation: 0it [00:00, ?it/s]"
      ]
     },
     "metadata": {},
     "output_type": "display_data"
    },
    {
     "name": "stderr",
     "output_type": "stream",
     "text": [
      "Epoch 86, global step 240033: 'val_dataset_iou' was not in top 1\n"
     ]
    },
    {
     "data": {
      "application/vnd.jupyter.widget-view+json": {
       "model_id": "",
       "version_major": 2,
       "version_minor": 0
      },
      "text/plain": [
       "Validation: 0it [00:00, ?it/s]"
      ]
     },
     "metadata": {},
     "output_type": "display_data"
    },
    {
     "name": "stderr",
     "output_type": "stream",
     "text": [
      "Epoch 87, global step 242792: 'val_dataset_iou' was not in top 1\n"
     ]
    },
    {
     "data": {
      "application/vnd.jupyter.widget-view+json": {
       "model_id": "",
       "version_major": 2,
       "version_minor": 0
      },
      "text/plain": [
       "Validation: 0it [00:00, ?it/s]"
      ]
     },
     "metadata": {},
     "output_type": "display_data"
    },
    {
     "name": "stderr",
     "output_type": "stream",
     "text": [
      "Epoch 88, global step 245551: 'val_dataset_iou' was not in top 1\n"
     ]
    },
    {
     "data": {
      "application/vnd.jupyter.widget-view+json": {
       "model_id": "",
       "version_major": 2,
       "version_minor": 0
      },
      "text/plain": [
       "Validation: 0it [00:00, ?it/s]"
      ]
     },
     "metadata": {},
     "output_type": "display_data"
    },
    {
     "name": "stderr",
     "output_type": "stream",
     "text": [
      "Epoch 89, global step 248310: 'val_dataset_iou' was not in top 1\n"
     ]
    },
    {
     "data": {
      "application/vnd.jupyter.widget-view+json": {
       "model_id": "",
       "version_major": 2,
       "version_minor": 0
      },
      "text/plain": [
       "Validation: 0it [00:00, ?it/s]"
      ]
     },
     "metadata": {},
     "output_type": "display_data"
    },
    {
     "name": "stderr",
     "output_type": "stream",
     "text": [
      "Epoch 90, global step 251069: 'val_dataset_iou' was not in top 1\n"
     ]
    },
    {
     "data": {
      "application/vnd.jupyter.widget-view+json": {
       "model_id": "",
       "version_major": 2,
       "version_minor": 0
      },
      "text/plain": [
       "Validation: 0it [00:00, ?it/s]"
      ]
     },
     "metadata": {},
     "output_type": "display_data"
    },
    {
     "name": "stderr",
     "output_type": "stream",
     "text": [
      "Epoch 91, global step 253828: 'val_dataset_iou' was not in top 1\n"
     ]
    }
   ],
   "source": [
    "mlflow.set_experiment(MLFLOW_EXPERIMENT_NAME)\n",
    "with mlflow.start_run() as run:\n",
    "    params = {\n",
    "        'max_epochs': config.MAX_EPOCHS,\n",
    "        'encoder_params': wall_model.params,\n",
    "        'learning_rate': config.LEARNING_RATE,\n",
    "        'batch_size': config.BATCH_SIZE,\n",
    "        'val_dataset_size': len(wall_model.val_dataset),\n",
    "        'train_dataset_size': len(wall_model.train_dataset),\n",
    "        'architecture': config.ARCHITECTURE,\n",
    "        'encoder': config.ENCODER,\n",
    "        'freeze_encoder': config.FREEZE_ENCODER,\n",
    "        'input_size': config.INPUT_IMAGE_SIZE,\n",
    "        'checkpoint_monitor': checkpoint_callback.monitor,\n",
    "        'loss': repr(wall_model.losses),\n",
    "        'optimizer': type(wall_model.optimizer).__name__,\n",
    "        'scheduler': type(wall_model.scheduler).__name__\n",
    "    }\n",
    "    if config.RESUME_FROM_CHECKPOINT_PATH is not None:\n",
    "        params['resume_from_checkpoint_path'] = config.RESUME_FROM_CHECKPOINT_PATH\n",
    "    for (key, value) in wall_model.optimizer.param_groups[0].items():\n",
    "        if key == 'params':\n",
    "            continue\n",
    "        params[f'optimizer__{key}'] = str(value)\n",
    "    for (key, value) in wall_model.scheduler.state_dict().items():\n",
    "        params[f'scheduler__{key}'] = str(value)\n",
    "    mlflow.log_params(params)\n",
    "\n",
    "    logger = MLFlowLogger(\n",
    "        MLFLOW_EXPERIMENT_NAME,\n",
    "        save_dir=\"./mlruns\",\n",
    "        log_model=True,\n",
    "        run_id=run.info.run_id,\n",
    "    )\n",
    "\n",
    "    trainer = pl.Trainer(\n",
    "        devices=1,\n",
    "        logger=logger,\n",
    "        max_epochs=config.MAX_EPOCHS,\n",
    "        callbacks=[\n",
    "            checkpoint_callback,\n",
    "            earlystop_callback,\n",
    "            imagelog_callback\n",
    "        ],\n",
    "        default_root_dir='./pl_logs',\n",
    "        enable_checkpointing=True,\n",
    "    )\n",
    "\n",
    "    trainer.fit(wall_model, ckpt_path=config.RESUME_FROM_CHECKPOINT_PATH)\n",
    "\n",
    "    mlflow.log_param('best_checkpoint', checkpoint_callback.best_model_path)\n",
    "    best_checkpoint_score = checkpoint_callback.best_model_score.cpu().detach().numpy().item()\n",
    "    mlflow.log_metric('best_checkpoint_score', best_checkpoint_score)\n",
    "\n",
    "    # TODO: log best val_loss, train_loss, and other metrics"
   ]
  },
  {
   "cell_type": "code",
   "execution_count": null,
   "metadata": {
    "collapsed": false,
    "jupyter": {
     "outputs_hidden": false
    }
   },
   "outputs": [],
   "source": [
    "# trainer.save_checkpoint(f'./backup_epoch-{trainer.current_epoch}.ckpt')"
   ]
  },
  {
   "cell_type": "code",
   "execution_count": null,
   "metadata": {
    "collapsed": false,
    "jupyter": {
     "outputs_hidden": false
    }
   },
   "outputs": [],
   "source": [
    "# Load best weights\n",
    "wall_model.load_from_checkpoint(checkpoint_callback.best_model_path)\n",
    "wall_model = wall_model.eval().cpu()\n",
    "print(f'Loaded {checkpoint_callback.best_model_path}')"
   ]
  },
  {
   "cell_type": "code",
   "execution_count": null,
   "metadata": {
    "collapsed": false,
    "jupyter": {
     "outputs_hidden": false
    }
   },
   "outputs": [],
   "source": [
    "demo_dataset = SimpleWallADE20KDataset(\n",
    "    root=config.DATA_ROOT,\n",
    "    length=10,\n",
    "    preprocessing_fn=get_preprocessing_transform(config.ENCODER),\n",
    "    augmentation_fn=get_val_augmentations(),\n",
    "    mode='val'\n",
    ")\n",
    "demo_dataset_vis = SimpleWallADE20KDataset(\n",
    "    root=config.DATA_ROOT,\n",
    "    length=10,\n",
    "    preprocessing_fn=None,\n",
    "    augmentation_fn=get_val_augmentations(),\n",
    "    mode='val'\n",
    ")"
   ]
  },
  {
   "cell_type": "code",
   "execution_count": null,
   "metadata": {
    "collapsed": false,
    "jupyter": {
     "outputs_hidden": false
    }
   },
   "outputs": [],
   "source": [
    "demo_dataloader = DataLoader(demo_dataset, batch_size=1, shuffle=False)"
   ]
  },
  {
   "cell_type": "code",
   "execution_count": null,
   "metadata": {
    "collapsed": false,
    "jupyter": {
     "outputs_hidden": false
    }
   },
   "outputs": [],
   "source": [
    "def show_images(images: List[Tuple[str, np.ndarray]]):\n",
    "    num_images = len(images)\n",
    "    plt.figure(figsize=(16, 5))\n",
    "    for i, (name, image) in enumerate(images):\n",
    "        plt.subplot(1, num_images, i + 1)\n",
    "        plt.axis('off')\n",
    "        plt.title(name)\n",
    "        plt.imshow(image)\n",
    "    plt.show()"
   ]
  },
  {
   "cell_type": "code",
   "execution_count": null,
   "metadata": {
    "collapsed": false,
    "jupyter": {
     "outputs_hidden": false
    }
   },
   "outputs": [],
   "source": [
    "dataloader_iter = iter(demo_dataloader)\n",
    "threshold = 0.5\n",
    "for i in range(0, 10):\n",
    "    image, mask = demo_dataset_vis[i]\n",
    "    x, _ = next(dataloader_iter)\n",
    "    # x = x.cuda()\n",
    "    y = wall_model(x).cpu().detach().numpy().squeeze()\n",
    "    y[y >= threshold] = 1.0\n",
    "    y[y < threshold] = 0.0\n",
    "    # TODO: threshold\n",
    "\n",
    "    show_images([\n",
    "        ('Image', image),\n",
    "        ('Prediction', y),\n",
    "        ('Ground truth', mask),\n",
    "    ])"
   ]
  },
  {
   "cell_type": "code",
   "execution_count": null,
   "metadata": {
    "collapsed": false,
    "jupyter": {
     "outputs_hidden": false
    }
   },
   "outputs": [],
   "source": [
    "y[y >= 0.5] = 1.0\n",
    "y[y < 0.5] = 0.0"
   ]
  },
  {
   "cell_type": "code",
   "execution_count": null,
   "metadata": {
    "collapsed": false,
    "jupyter": {
     "outputs_hidden": false
    }
   },
   "outputs": [],
   "source": [
    "plt.imshow(y);"
   ]
  },
  {
   "cell_type": "code",
   "execution_count": null,
   "metadata": {
    "collapsed": false,
    "jupyter": {
     "outputs_hidden": false
    }
   },
   "outputs": [],
   "source": []
  }
 ],
 "metadata": {
  "accelerator": "GPU",
  "colab": {
   "authorship_tag": "ABX9TyM4kuDBljTeG7W9ylDQh1ug",
   "include_colab_link": true,
   "provenance": []
  },
  "gpuClass": "standard",
  "kernelspec": {
   "display_name": "Python 3 (ipykernel)",
   "language": "python",
   "name": "python3"
  },
  "language_info": {
   "codemirror_mode": {
    "name": "ipython",
    "version": 3
   },
   "file_extension": ".py",
   "mimetype": "text/x-python",
   "name": "python",
   "nbconvert_exporter": "python",
   "pygments_lexer": "ipython3",
   "version": "3.10.11"
  },
  "widgets": {
   "application/vnd.jupyter.widget-state+json": {
    "0c8699892d3a4379ac2079e31694c985": {
     "model_module": "@jupyter-widgets/controls",
     "model_module_version": "1.5.0",
     "model_name": "ProgressStyleModel",
     "state": {
      "_model_module": "@jupyter-widgets/controls",
      "_model_module_version": "1.5.0",
      "_model_name": "ProgressStyleModel",
      "_view_count": null,
      "_view_module": "@jupyter-widgets/base",
      "_view_module_version": "1.2.0",
      "_view_name": "StyleView",
      "bar_color": null,
      "description_width": ""
     }
    },
    "16d106482e41496eb6842c4936d6f31a": {
     "model_module": "@jupyter-widgets/controls",
     "model_module_version": "1.5.0",
     "model_name": "ProgressStyleModel",
     "state": {
      "_model_module": "@jupyter-widgets/controls",
      "_model_module_version": "1.5.0",
      "_model_name": "ProgressStyleModel",
      "_view_count": null,
      "_view_module": "@jupyter-widgets/base",
      "_view_module_version": "1.2.0",
      "_view_name": "StyleView",
      "bar_color": null,
      "description_width": ""
     }
    },
    "269501bbdeb4450aa200af474e0c6c59": {
     "model_module": "@jupyter-widgets/controls",
     "model_module_version": "1.5.0",
     "model_name": "HTMLModel",
     "state": {
      "_dom_classes": [],
      "_model_module": "@jupyter-widgets/controls",
      "_model_module_version": "1.5.0",
      "_model_name": "HTMLModel",
      "_view_count": null,
      "_view_module": "@jupyter-widgets/controls",
      "_view_module_version": "1.5.0",
      "_view_name": "HTMLView",
      "description": "",
      "description_tooltip": null,
      "layout": "IPY_MODEL_b33a513ec4b944f9ae7a8eb1de70408b",
      "placeholder": "​",
      "style": "IPY_MODEL_c70b8befafa544ceb59f3b2f999a1c97",
      "value": "Epoch 0:  26%"
     }
    },
    "302d0cafe6f74406a2693fabbdab09f5": {
     "model_module": "@jupyter-widgets/controls",
     "model_module_version": "1.5.0",
     "model_name": "HTMLModel",
     "state": {
      "_dom_classes": [],
      "_model_module": "@jupyter-widgets/controls",
      "_model_module_version": "1.5.0",
      "_model_name": "HTMLModel",
      "_view_count": null,
      "_view_module": "@jupyter-widgets/controls",
      "_view_module_version": "1.5.0",
      "_view_name": "HTMLView",
      "description": "",
      "description_tooltip": null,
      "layout": "IPY_MODEL_ecee03b9e39d4a7c8e29e49a2cf38b22",
      "placeholder": "​",
      "style": "IPY_MODEL_574a12afb80449219dfb3467ac6d97f5",
      "value": "Sanity Checking DataLoader 0: 100%"
     }
    },
    "338ac979520c42bbbc9037dd66037285": {
     "model_module": "@jupyter-widgets/controls",
     "model_module_version": "1.5.0",
     "model_name": "FloatProgressModel",
     "state": {
      "_dom_classes": [],
      "_model_module": "@jupyter-widgets/controls",
      "_model_module_version": "1.5.0",
      "_model_name": "FloatProgressModel",
      "_view_count": null,
      "_view_module": "@jupyter-widgets/controls",
      "_view_module_version": "1.5.0",
      "_view_name": "ProgressView",
      "bar_style": "",
      "description": "",
      "description_tooltip": null,
      "layout": "IPY_MODEL_8adc7c285f6945d6bc4194b5a3d2fbf8",
      "max": 2,
      "min": 0,
      "orientation": "horizontal",
      "style": "IPY_MODEL_0c8699892d3a4379ac2079e31694c985",
      "value": 2
     }
    },
    "4a3edc071d2148deb85becb7e22c9b09": {
     "model_module": "@jupyter-widgets/base",
     "model_module_version": "1.2.0",
     "model_name": "LayoutModel",
     "state": {
      "_model_module": "@jupyter-widgets/base",
      "_model_module_version": "1.2.0",
      "_model_name": "LayoutModel",
      "_view_count": null,
      "_view_module": "@jupyter-widgets/base",
      "_view_module_version": "1.2.0",
      "_view_name": "LayoutView",
      "align_content": null,
      "align_items": null,
      "align_self": null,
      "border": null,
      "bottom": null,
      "display": "inline-flex",
      "flex": null,
      "flex_flow": "row wrap",
      "grid_area": null,
      "grid_auto_columns": null,
      "grid_auto_flow": null,
      "grid_auto_rows": null,
      "grid_column": null,
      "grid_gap": null,
      "grid_row": null,
      "grid_template_areas": null,
      "grid_template_columns": null,
      "grid_template_rows": null,
      "height": null,
      "justify_content": null,
      "justify_items": null,
      "left": null,
      "margin": null,
      "max_height": null,
      "max_width": null,
      "min_height": null,
      "min_width": null,
      "object_fit": null,
      "object_position": null,
      "order": null,
      "overflow": null,
      "overflow_x": null,
      "overflow_y": null,
      "padding": null,
      "right": null,
      "top": null,
      "visibility": null,
      "width": "100%"
     }
    },
    "574a12afb80449219dfb3467ac6d97f5": {
     "model_module": "@jupyter-widgets/controls",
     "model_module_version": "1.5.0",
     "model_name": "DescriptionStyleModel",
     "state": {
      "_model_module": "@jupyter-widgets/controls",
      "_model_module_version": "1.5.0",
      "_model_name": "DescriptionStyleModel",
      "_view_count": null,
      "_view_module": "@jupyter-widgets/base",
      "_view_module_version": "1.2.0",
      "_view_name": "StyleView",
      "description_width": ""
     }
    },
    "65447da4a718445dbabd498989e33ea1": {
     "model_module": "@jupyter-widgets/base",
     "model_module_version": "1.2.0",
     "model_name": "LayoutModel",
     "state": {
      "_model_module": "@jupyter-widgets/base",
      "_model_module_version": "1.2.0",
      "_model_name": "LayoutModel",
      "_view_count": null,
      "_view_module": "@jupyter-widgets/base",
      "_view_module_version": "1.2.0",
      "_view_name": "LayoutView",
      "align_content": null,
      "align_items": null,
      "align_self": null,
      "border": null,
      "bottom": null,
      "display": "inline-flex",
      "flex": null,
      "flex_flow": "row wrap",
      "grid_area": null,
      "grid_auto_columns": null,
      "grid_auto_flow": null,
      "grid_auto_rows": null,
      "grid_column": null,
      "grid_gap": null,
      "grid_row": null,
      "grid_template_areas": null,
      "grid_template_columns": null,
      "grid_template_rows": null,
      "height": null,
      "justify_content": null,
      "justify_items": null,
      "left": null,
      "margin": null,
      "max_height": null,
      "max_width": null,
      "min_height": null,
      "min_width": null,
      "object_fit": null,
      "object_position": null,
      "order": null,
      "overflow": null,
      "overflow_x": null,
      "overflow_y": null,
      "padding": null,
      "right": null,
      "top": null,
      "visibility": "hidden",
      "width": "100%"
     }
    },
    "6cef2ff46d1e4e1aba918e19ea85ad0d": {
     "model_module": "@jupyter-widgets/controls",
     "model_module_version": "1.5.0",
     "model_name": "DescriptionStyleModel",
     "state": {
      "_model_module": "@jupyter-widgets/controls",
      "_model_module_version": "1.5.0",
      "_model_name": "DescriptionStyleModel",
      "_view_count": null,
      "_view_module": "@jupyter-widgets/base",
      "_view_module_version": "1.2.0",
      "_view_name": "StyleView",
      "description_width": ""
     }
    },
    "7525ac0dfc4e4d579844bb5747a68f20": {
     "model_module": "@jupyter-widgets/base",
     "model_module_version": "1.2.0",
     "model_name": "LayoutModel",
     "state": {
      "_model_module": "@jupyter-widgets/base",
      "_model_module_version": "1.2.0",
      "_model_name": "LayoutModel",
      "_view_count": null,
      "_view_module": "@jupyter-widgets/base",
      "_view_module_version": "1.2.0",
      "_view_name": "LayoutView",
      "align_content": null,
      "align_items": null,
      "align_self": null,
      "border": null,
      "bottom": null,
      "display": null,
      "flex": "2",
      "flex_flow": null,
      "grid_area": null,
      "grid_auto_columns": null,
      "grid_auto_flow": null,
      "grid_auto_rows": null,
      "grid_column": null,
      "grid_gap": null,
      "grid_row": null,
      "grid_template_areas": null,
      "grid_template_columns": null,
      "grid_template_rows": null,
      "height": null,
      "justify_content": null,
      "justify_items": null,
      "left": null,
      "margin": null,
      "max_height": null,
      "max_width": null,
      "min_height": null,
      "min_width": null,
      "object_fit": null,
      "object_position": null,
      "order": null,
      "overflow": null,
      "overflow_x": null,
      "overflow_y": null,
      "padding": null,
      "right": null,
      "top": null,
      "visibility": null,
      "width": null
     }
    },
    "8adc7c285f6945d6bc4194b5a3d2fbf8": {
     "model_module": "@jupyter-widgets/base",
     "model_module_version": "1.2.0",
     "model_name": "LayoutModel",
     "state": {
      "_model_module": "@jupyter-widgets/base",
      "_model_module_version": "1.2.0",
      "_model_name": "LayoutModel",
      "_view_count": null,
      "_view_module": "@jupyter-widgets/base",
      "_view_module_version": "1.2.0",
      "_view_name": "LayoutView",
      "align_content": null,
      "align_items": null,
      "align_self": null,
      "border": null,
      "bottom": null,
      "display": null,
      "flex": "2",
      "flex_flow": null,
      "grid_area": null,
      "grid_auto_columns": null,
      "grid_auto_flow": null,
      "grid_auto_rows": null,
      "grid_column": null,
      "grid_gap": null,
      "grid_row": null,
      "grid_template_areas": null,
      "grid_template_columns": null,
      "grid_template_rows": null,
      "height": null,
      "justify_content": null,
      "justify_items": null,
      "left": null,
      "margin": null,
      "max_height": null,
      "max_width": null,
      "min_height": null,
      "min_width": null,
      "object_fit": null,
      "object_position": null,
      "order": null,
      "overflow": null,
      "overflow_x": null,
      "overflow_y": null,
      "padding": null,
      "right": null,
      "top": null,
      "visibility": null,
      "width": null
     }
    },
    "95a0b184c0c243a18ac8675bf2f28058": {
     "model_module": "@jupyter-widgets/controls",
     "model_module_version": "1.5.0",
     "model_name": "HBoxModel",
     "state": {
      "_dom_classes": [],
      "_model_module": "@jupyter-widgets/controls",
      "_model_module_version": "1.5.0",
      "_model_name": "HBoxModel",
      "_view_count": null,
      "_view_module": "@jupyter-widgets/controls",
      "_view_module_version": "1.5.0",
      "_view_name": "HBoxView",
      "box_style": "",
      "children": [
       "IPY_MODEL_302d0cafe6f74406a2693fabbdab09f5",
       "IPY_MODEL_338ac979520c42bbbc9037dd66037285",
       "IPY_MODEL_fb5a25c466704e308bc146468028bbf4"
      ],
      "layout": "IPY_MODEL_65447da4a718445dbabd498989e33ea1"
     }
    },
    "96fa504e65c14d2c948e8ac0a07855c2": {
     "model_module": "@jupyter-widgets/controls",
     "model_module_version": "1.5.0",
     "model_name": "HTMLModel",
     "state": {
      "_dom_classes": [],
      "_model_module": "@jupyter-widgets/controls",
      "_model_module_version": "1.5.0",
      "_model_name": "HTMLModel",
      "_view_count": null,
      "_view_module": "@jupyter-widgets/controls",
      "_view_module_version": "1.5.0",
      "_view_name": "HTMLView",
      "description": "",
      "description_tooltip": null,
      "layout": "IPY_MODEL_c310b93565b8476d8fe30e095789baf7",
      "placeholder": "​",
      "style": "IPY_MODEL_6cef2ff46d1e4e1aba918e19ea85ad0d",
      "value": " 220/845 [04:30&lt;12:49,  1.23s/it, v_num=2]"
     }
    },
    "a815db76a2e342329b9f3978769938c0": {
     "model_module": "@jupyter-widgets/controls",
     "model_module_version": "1.5.0",
     "model_name": "FloatProgressModel",
     "state": {
      "_dom_classes": [],
      "_model_module": "@jupyter-widgets/controls",
      "_model_module_version": "1.5.0",
      "_model_name": "FloatProgressModel",
      "_view_count": null,
      "_view_module": "@jupyter-widgets/controls",
      "_view_module_version": "1.5.0",
      "_view_name": "ProgressView",
      "bar_style": "",
      "description": "",
      "description_tooltip": null,
      "layout": "IPY_MODEL_7525ac0dfc4e4d579844bb5747a68f20",
      "max": 845,
      "min": 0,
      "orientation": "horizontal",
      "style": "IPY_MODEL_16d106482e41496eb6842c4936d6f31a",
      "value": 220
     }
    },
    "b33a513ec4b944f9ae7a8eb1de70408b": {
     "model_module": "@jupyter-widgets/base",
     "model_module_version": "1.2.0",
     "model_name": "LayoutModel",
     "state": {
      "_model_module": "@jupyter-widgets/base",
      "_model_module_version": "1.2.0",
      "_model_name": "LayoutModel",
      "_view_count": null,
      "_view_module": "@jupyter-widgets/base",
      "_view_module_version": "1.2.0",
      "_view_name": "LayoutView",
      "align_content": null,
      "align_items": null,
      "align_self": null,
      "border": null,
      "bottom": null,
      "display": null,
      "flex": null,
      "flex_flow": null,
      "grid_area": null,
      "grid_auto_columns": null,
      "grid_auto_flow": null,
      "grid_auto_rows": null,
      "grid_column": null,
      "grid_gap": null,
      "grid_row": null,
      "grid_template_areas": null,
      "grid_template_columns": null,
      "grid_template_rows": null,
      "height": null,
      "justify_content": null,
      "justify_items": null,
      "left": null,
      "margin": null,
      "max_height": null,
      "max_width": null,
      "min_height": null,
      "min_width": null,
      "object_fit": null,
      "object_position": null,
      "order": null,
      "overflow": null,
      "overflow_x": null,
      "overflow_y": null,
      "padding": null,
      "right": null,
      "top": null,
      "visibility": null,
      "width": null
     }
    },
    "b6b070b037f448d99b9d80f741a9c3a7": {
     "model_module": "@jupyter-widgets/controls",
     "model_module_version": "1.5.0",
     "model_name": "DescriptionStyleModel",
     "state": {
      "_model_module": "@jupyter-widgets/controls",
      "_model_module_version": "1.5.0",
      "_model_name": "DescriptionStyleModel",
      "_view_count": null,
      "_view_module": "@jupyter-widgets/base",
      "_view_module_version": "1.2.0",
      "_view_name": "StyleView",
      "description_width": ""
     }
    },
    "c310b93565b8476d8fe30e095789baf7": {
     "model_module": "@jupyter-widgets/base",
     "model_module_version": "1.2.0",
     "model_name": "LayoutModel",
     "state": {
      "_model_module": "@jupyter-widgets/base",
      "_model_module_version": "1.2.0",
      "_model_name": "LayoutModel",
      "_view_count": null,
      "_view_module": "@jupyter-widgets/base",
      "_view_module_version": "1.2.0",
      "_view_name": "LayoutView",
      "align_content": null,
      "align_items": null,
      "align_self": null,
      "border": null,
      "bottom": null,
      "display": null,
      "flex": null,
      "flex_flow": null,
      "grid_area": null,
      "grid_auto_columns": null,
      "grid_auto_flow": null,
      "grid_auto_rows": null,
      "grid_column": null,
      "grid_gap": null,
      "grid_row": null,
      "grid_template_areas": null,
      "grid_template_columns": null,
      "grid_template_rows": null,
      "height": null,
      "justify_content": null,
      "justify_items": null,
      "left": null,
      "margin": null,
      "max_height": null,
      "max_width": null,
      "min_height": null,
      "min_width": null,
      "object_fit": null,
      "object_position": null,
      "order": null,
      "overflow": null,
      "overflow_x": null,
      "overflow_y": null,
      "padding": null,
      "right": null,
      "top": null,
      "visibility": null,
      "width": null
     }
    },
    "c4b8f059656c4fd5a4487d7b3966d368": {
     "model_module": "@jupyter-widgets/base",
     "model_module_version": "1.2.0",
     "model_name": "LayoutModel",
     "state": {
      "_model_module": "@jupyter-widgets/base",
      "_model_module_version": "1.2.0",
      "_model_name": "LayoutModel",
      "_view_count": null,
      "_view_module": "@jupyter-widgets/base",
      "_view_module_version": "1.2.0",
      "_view_name": "LayoutView",
      "align_content": null,
      "align_items": null,
      "align_self": null,
      "border": null,
      "bottom": null,
      "display": null,
      "flex": null,
      "flex_flow": null,
      "grid_area": null,
      "grid_auto_columns": null,
      "grid_auto_flow": null,
      "grid_auto_rows": null,
      "grid_column": null,
      "grid_gap": null,
      "grid_row": null,
      "grid_template_areas": null,
      "grid_template_columns": null,
      "grid_template_rows": null,
      "height": null,
      "justify_content": null,
      "justify_items": null,
      "left": null,
      "margin": null,
      "max_height": null,
      "max_width": null,
      "min_height": null,
      "min_width": null,
      "object_fit": null,
      "object_position": null,
      "order": null,
      "overflow": null,
      "overflow_x": null,
      "overflow_y": null,
      "padding": null,
      "right": null,
      "top": null,
      "visibility": null,
      "width": null
     }
    },
    "c70b8befafa544ceb59f3b2f999a1c97": {
     "model_module": "@jupyter-widgets/controls",
     "model_module_version": "1.5.0",
     "model_name": "DescriptionStyleModel",
     "state": {
      "_model_module": "@jupyter-widgets/controls",
      "_model_module_version": "1.5.0",
      "_model_name": "DescriptionStyleModel",
      "_view_count": null,
      "_view_module": "@jupyter-widgets/base",
      "_view_module_version": "1.2.0",
      "_view_name": "StyleView",
      "description_width": ""
     }
    },
    "e55d387e9a314b6baf988c310728785b": {
     "model_module": "@jupyter-widgets/controls",
     "model_module_version": "1.5.0",
     "model_name": "HBoxModel",
     "state": {
      "_dom_classes": [],
      "_model_module": "@jupyter-widgets/controls",
      "_model_module_version": "1.5.0",
      "_model_name": "HBoxModel",
      "_view_count": null,
      "_view_module": "@jupyter-widgets/controls",
      "_view_module_version": "1.5.0",
      "_view_name": "HBoxView",
      "box_style": "",
      "children": [
       "IPY_MODEL_269501bbdeb4450aa200af474e0c6c59",
       "IPY_MODEL_a815db76a2e342329b9f3978769938c0",
       "IPY_MODEL_96fa504e65c14d2c948e8ac0a07855c2"
      ],
      "layout": "IPY_MODEL_4a3edc071d2148deb85becb7e22c9b09"
     }
    },
    "ecee03b9e39d4a7c8e29e49a2cf38b22": {
     "model_module": "@jupyter-widgets/base",
     "model_module_version": "1.2.0",
     "model_name": "LayoutModel",
     "state": {
      "_model_module": "@jupyter-widgets/base",
      "_model_module_version": "1.2.0",
      "_model_name": "LayoutModel",
      "_view_count": null,
      "_view_module": "@jupyter-widgets/base",
      "_view_module_version": "1.2.0",
      "_view_name": "LayoutView",
      "align_content": null,
      "align_items": null,
      "align_self": null,
      "border": null,
      "bottom": null,
      "display": null,
      "flex": null,
      "flex_flow": null,
      "grid_area": null,
      "grid_auto_columns": null,
      "grid_auto_flow": null,
      "grid_auto_rows": null,
      "grid_column": null,
      "grid_gap": null,
      "grid_row": null,
      "grid_template_areas": null,
      "grid_template_columns": null,
      "grid_template_rows": null,
      "height": null,
      "justify_content": null,
      "justify_items": null,
      "left": null,
      "margin": null,
      "max_height": null,
      "max_width": null,
      "min_height": null,
      "min_width": null,
      "object_fit": null,
      "object_position": null,
      "order": null,
      "overflow": null,
      "overflow_x": null,
      "overflow_y": null,
      "padding": null,
      "right": null,
      "top": null,
      "visibility": null,
      "width": null
     }
    },
    "fb5a25c466704e308bc146468028bbf4": {
     "model_module": "@jupyter-widgets/controls",
     "model_module_version": "1.5.0",
     "model_name": "HTMLModel",
     "state": {
      "_dom_classes": [],
      "_model_module": "@jupyter-widgets/controls",
      "_model_module_version": "1.5.0",
      "_model_name": "HTMLModel",
      "_view_count": null,
      "_view_module": "@jupyter-widgets/controls",
      "_view_module_version": "1.5.0",
      "_view_name": "HTMLView",
      "description": "",
      "description_tooltip": null,
      "layout": "IPY_MODEL_c4b8f059656c4fd5a4487d7b3966d368",
      "placeholder": "​",
      "style": "IPY_MODEL_b6b070b037f448d99b9d80f741a9c3a7",
      "value": " 2/2 [00:00&lt;00:00,  3.42it/s]"
     }
    }
   }
  }
 },
 "nbformat": 4,
 "nbformat_minor": 4
}
