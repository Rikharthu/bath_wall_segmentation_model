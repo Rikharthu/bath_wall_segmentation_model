{
 "nbformat": 4,
 "nbformat_minor": 0,
 "metadata": {
  "colab": {
   "provenance": [],
   "authorship_tag": "ABX9TyM4kuDBljTeG7W9ylDQh1ug",
   "include_colab_link": true
  },
  "kernelspec": {
   "name": "python3",
   "language": "python",
   "display_name": "Python 3 (ipykernel)"
  },
  "language_info": {
   "name": "python"
  },
  "accelerator": "GPU",
  "gpuClass": "standard",
  "widgets": {
   "application/vnd.jupyter.widget-state+json": {
    "95a0b184c0c243a18ac8675bf2f28058": {
     "model_module": "@jupyter-widgets/controls",
     "model_name": "HBoxModel",
     "model_module_version": "1.5.0",
     "state": {
      "_dom_classes": [],
      "_model_module": "@jupyter-widgets/controls",
      "_model_module_version": "1.5.0",
      "_model_name": "HBoxModel",
      "_view_count": null,
      "_view_module": "@jupyter-widgets/controls",
      "_view_module_version": "1.5.0",
      "_view_name": "HBoxView",
      "box_style": "",
      "children": [
       "IPY_MODEL_302d0cafe6f74406a2693fabbdab09f5",
       "IPY_MODEL_338ac979520c42bbbc9037dd66037285",
       "IPY_MODEL_fb5a25c466704e308bc146468028bbf4"
      ],
      "layout": "IPY_MODEL_65447da4a718445dbabd498989e33ea1"
     }
    },
    "302d0cafe6f74406a2693fabbdab09f5": {
     "model_module": "@jupyter-widgets/controls",
     "model_name": "HTMLModel",
     "model_module_version": "1.5.0",
     "state": {
      "_dom_classes": [],
      "_model_module": "@jupyter-widgets/controls",
      "_model_module_version": "1.5.0",
      "_model_name": "HTMLModel",
      "_view_count": null,
      "_view_module": "@jupyter-widgets/controls",
      "_view_module_version": "1.5.0",
      "_view_name": "HTMLView",
      "description": "",
      "description_tooltip": null,
      "layout": "IPY_MODEL_ecee03b9e39d4a7c8e29e49a2cf38b22",
      "placeholder": "​",
      "style": "IPY_MODEL_574a12afb80449219dfb3467ac6d97f5",
      "value": "Sanity Checking DataLoader 0: 100%"
     }
    },
    "338ac979520c42bbbc9037dd66037285": {
     "model_module": "@jupyter-widgets/controls",
     "model_name": "FloatProgressModel",
     "model_module_version": "1.5.0",
     "state": {
      "_dom_classes": [],
      "_model_module": "@jupyter-widgets/controls",
      "_model_module_version": "1.5.0",
      "_model_name": "FloatProgressModel",
      "_view_count": null,
      "_view_module": "@jupyter-widgets/controls",
      "_view_module_version": "1.5.0",
      "_view_name": "ProgressView",
      "bar_style": "",
      "description": "",
      "description_tooltip": null,
      "layout": "IPY_MODEL_8adc7c285f6945d6bc4194b5a3d2fbf8",
      "max": 2,
      "min": 0,
      "orientation": "horizontal",
      "style": "IPY_MODEL_0c8699892d3a4379ac2079e31694c985",
      "value": 2
     }
    },
    "fb5a25c466704e308bc146468028bbf4": {
     "model_module": "@jupyter-widgets/controls",
     "model_name": "HTMLModel",
     "model_module_version": "1.5.0",
     "state": {
      "_dom_classes": [],
      "_model_module": "@jupyter-widgets/controls",
      "_model_module_version": "1.5.0",
      "_model_name": "HTMLModel",
      "_view_count": null,
      "_view_module": "@jupyter-widgets/controls",
      "_view_module_version": "1.5.0",
      "_view_name": "HTMLView",
      "description": "",
      "description_tooltip": null,
      "layout": "IPY_MODEL_c4b8f059656c4fd5a4487d7b3966d368",
      "placeholder": "​",
      "style": "IPY_MODEL_b6b070b037f448d99b9d80f741a9c3a7",
      "value": " 2/2 [00:00&lt;00:00,  3.42it/s]"
     }
    },
    "65447da4a718445dbabd498989e33ea1": {
     "model_module": "@jupyter-widgets/base",
     "model_name": "LayoutModel",
     "model_module_version": "1.2.0",
     "state": {
      "_model_module": "@jupyter-widgets/base",
      "_model_module_version": "1.2.0",
      "_model_name": "LayoutModel",
      "_view_count": null,
      "_view_module": "@jupyter-widgets/base",
      "_view_module_version": "1.2.0",
      "_view_name": "LayoutView",
      "align_content": null,
      "align_items": null,
      "align_self": null,
      "border": null,
      "bottom": null,
      "display": "inline-flex",
      "flex": null,
      "flex_flow": "row wrap",
      "grid_area": null,
      "grid_auto_columns": null,
      "grid_auto_flow": null,
      "grid_auto_rows": null,
      "grid_column": null,
      "grid_gap": null,
      "grid_row": null,
      "grid_template_areas": null,
      "grid_template_columns": null,
      "grid_template_rows": null,
      "height": null,
      "justify_content": null,
      "justify_items": null,
      "left": null,
      "margin": null,
      "max_height": null,
      "max_width": null,
      "min_height": null,
      "min_width": null,
      "object_fit": null,
      "object_position": null,
      "order": null,
      "overflow": null,
      "overflow_x": null,
      "overflow_y": null,
      "padding": null,
      "right": null,
      "top": null,
      "visibility": "hidden",
      "width": "100%"
     }
    },
    "ecee03b9e39d4a7c8e29e49a2cf38b22": {
     "model_module": "@jupyter-widgets/base",
     "model_name": "LayoutModel",
     "model_module_version": "1.2.0",
     "state": {
      "_model_module": "@jupyter-widgets/base",
      "_model_module_version": "1.2.0",
      "_model_name": "LayoutModel",
      "_view_count": null,
      "_view_module": "@jupyter-widgets/base",
      "_view_module_version": "1.2.0",
      "_view_name": "LayoutView",
      "align_content": null,
      "align_items": null,
      "align_self": null,
      "border": null,
      "bottom": null,
      "display": null,
      "flex": null,
      "flex_flow": null,
      "grid_area": null,
      "grid_auto_columns": null,
      "grid_auto_flow": null,
      "grid_auto_rows": null,
      "grid_column": null,
      "grid_gap": null,
      "grid_row": null,
      "grid_template_areas": null,
      "grid_template_columns": null,
      "grid_template_rows": null,
      "height": null,
      "justify_content": null,
      "justify_items": null,
      "left": null,
      "margin": null,
      "max_height": null,
      "max_width": null,
      "min_height": null,
      "min_width": null,
      "object_fit": null,
      "object_position": null,
      "order": null,
      "overflow": null,
      "overflow_x": null,
      "overflow_y": null,
      "padding": null,
      "right": null,
      "top": null,
      "visibility": null,
      "width": null
     }
    },
    "574a12afb80449219dfb3467ac6d97f5": {
     "model_module": "@jupyter-widgets/controls",
     "model_name": "DescriptionStyleModel",
     "model_module_version": "1.5.0",
     "state": {
      "_model_module": "@jupyter-widgets/controls",
      "_model_module_version": "1.5.0",
      "_model_name": "DescriptionStyleModel",
      "_view_count": null,
      "_view_module": "@jupyter-widgets/base",
      "_view_module_version": "1.2.0",
      "_view_name": "StyleView",
      "description_width": ""
     }
    },
    "8adc7c285f6945d6bc4194b5a3d2fbf8": {
     "model_module": "@jupyter-widgets/base",
     "model_name": "LayoutModel",
     "model_module_version": "1.2.0",
     "state": {
      "_model_module": "@jupyter-widgets/base",
      "_model_module_version": "1.2.0",
      "_model_name": "LayoutModel",
      "_view_count": null,
      "_view_module": "@jupyter-widgets/base",
      "_view_module_version": "1.2.0",
      "_view_name": "LayoutView",
      "align_content": null,
      "align_items": null,
      "align_self": null,
      "border": null,
      "bottom": null,
      "display": null,
      "flex": "2",
      "flex_flow": null,
      "grid_area": null,
      "grid_auto_columns": null,
      "grid_auto_flow": null,
      "grid_auto_rows": null,
      "grid_column": null,
      "grid_gap": null,
      "grid_row": null,
      "grid_template_areas": null,
      "grid_template_columns": null,
      "grid_template_rows": null,
      "height": null,
      "justify_content": null,
      "justify_items": null,
      "left": null,
      "margin": null,
      "max_height": null,
      "max_width": null,
      "min_height": null,
      "min_width": null,
      "object_fit": null,
      "object_position": null,
      "order": null,
      "overflow": null,
      "overflow_x": null,
      "overflow_y": null,
      "padding": null,
      "right": null,
      "top": null,
      "visibility": null,
      "width": null
     }
    },
    "0c8699892d3a4379ac2079e31694c985": {
     "model_module": "@jupyter-widgets/controls",
     "model_name": "ProgressStyleModel",
     "model_module_version": "1.5.0",
     "state": {
      "_model_module": "@jupyter-widgets/controls",
      "_model_module_version": "1.5.0",
      "_model_name": "ProgressStyleModel",
      "_view_count": null,
      "_view_module": "@jupyter-widgets/base",
      "_view_module_version": "1.2.0",
      "_view_name": "StyleView",
      "bar_color": null,
      "description_width": ""
     }
    },
    "c4b8f059656c4fd5a4487d7b3966d368": {
     "model_module": "@jupyter-widgets/base",
     "model_name": "LayoutModel",
     "model_module_version": "1.2.0",
     "state": {
      "_model_module": "@jupyter-widgets/base",
      "_model_module_version": "1.2.0",
      "_model_name": "LayoutModel",
      "_view_count": null,
      "_view_module": "@jupyter-widgets/base",
      "_view_module_version": "1.2.0",
      "_view_name": "LayoutView",
      "align_content": null,
      "align_items": null,
      "align_self": null,
      "border": null,
      "bottom": null,
      "display": null,
      "flex": null,
      "flex_flow": null,
      "grid_area": null,
      "grid_auto_columns": null,
      "grid_auto_flow": null,
      "grid_auto_rows": null,
      "grid_column": null,
      "grid_gap": null,
      "grid_row": null,
      "grid_template_areas": null,
      "grid_template_columns": null,
      "grid_template_rows": null,
      "height": null,
      "justify_content": null,
      "justify_items": null,
      "left": null,
      "margin": null,
      "max_height": null,
      "max_width": null,
      "min_height": null,
      "min_width": null,
      "object_fit": null,
      "object_position": null,
      "order": null,
      "overflow": null,
      "overflow_x": null,
      "overflow_y": null,
      "padding": null,
      "right": null,
      "top": null,
      "visibility": null,
      "width": null
     }
    },
    "b6b070b037f448d99b9d80f741a9c3a7": {
     "model_module": "@jupyter-widgets/controls",
     "model_name": "DescriptionStyleModel",
     "model_module_version": "1.5.0",
     "state": {
      "_model_module": "@jupyter-widgets/controls",
      "_model_module_version": "1.5.0",
      "_model_name": "DescriptionStyleModel",
      "_view_count": null,
      "_view_module": "@jupyter-widgets/base",
      "_view_module_version": "1.2.0",
      "_view_name": "StyleView",
      "description_width": ""
     }
    },
    "e55d387e9a314b6baf988c310728785b": {
     "model_module": "@jupyter-widgets/controls",
     "model_name": "HBoxModel",
     "model_module_version": "1.5.0",
     "state": {
      "_dom_classes": [],
      "_model_module": "@jupyter-widgets/controls",
      "_model_module_version": "1.5.0",
      "_model_name": "HBoxModel",
      "_view_count": null,
      "_view_module": "@jupyter-widgets/controls",
      "_view_module_version": "1.5.0",
      "_view_name": "HBoxView",
      "box_style": "",
      "children": [
       "IPY_MODEL_269501bbdeb4450aa200af474e0c6c59",
       "IPY_MODEL_a815db76a2e342329b9f3978769938c0",
       "IPY_MODEL_96fa504e65c14d2c948e8ac0a07855c2"
      ],
      "layout": "IPY_MODEL_4a3edc071d2148deb85becb7e22c9b09"
     }
    },
    "269501bbdeb4450aa200af474e0c6c59": {
     "model_module": "@jupyter-widgets/controls",
     "model_name": "HTMLModel",
     "model_module_version": "1.5.0",
     "state": {
      "_dom_classes": [],
      "_model_module": "@jupyter-widgets/controls",
      "_model_module_version": "1.5.0",
      "_model_name": "HTMLModel",
      "_view_count": null,
      "_view_module": "@jupyter-widgets/controls",
      "_view_module_version": "1.5.0",
      "_view_name": "HTMLView",
      "description": "",
      "description_tooltip": null,
      "layout": "IPY_MODEL_b33a513ec4b944f9ae7a8eb1de70408b",
      "placeholder": "​",
      "style": "IPY_MODEL_c70b8befafa544ceb59f3b2f999a1c97",
      "value": "Epoch 0:  26%"
     }
    },
    "a815db76a2e342329b9f3978769938c0": {
     "model_module": "@jupyter-widgets/controls",
     "model_name": "FloatProgressModel",
     "model_module_version": "1.5.0",
     "state": {
      "_dom_classes": [],
      "_model_module": "@jupyter-widgets/controls",
      "_model_module_version": "1.5.0",
      "_model_name": "FloatProgressModel",
      "_view_count": null,
      "_view_module": "@jupyter-widgets/controls",
      "_view_module_version": "1.5.0",
      "_view_name": "ProgressView",
      "bar_style": "",
      "description": "",
      "description_tooltip": null,
      "layout": "IPY_MODEL_7525ac0dfc4e4d579844bb5747a68f20",
      "max": 845,
      "min": 0,
      "orientation": "horizontal",
      "style": "IPY_MODEL_16d106482e41496eb6842c4936d6f31a",
      "value": 220
     }
    },
    "96fa504e65c14d2c948e8ac0a07855c2": {
     "model_module": "@jupyter-widgets/controls",
     "model_name": "HTMLModel",
     "model_module_version": "1.5.0",
     "state": {
      "_dom_classes": [],
      "_model_module": "@jupyter-widgets/controls",
      "_model_module_version": "1.5.0",
      "_model_name": "HTMLModel",
      "_view_count": null,
      "_view_module": "@jupyter-widgets/controls",
      "_view_module_version": "1.5.0",
      "_view_name": "HTMLView",
      "description": "",
      "description_tooltip": null,
      "layout": "IPY_MODEL_c310b93565b8476d8fe30e095789baf7",
      "placeholder": "​",
      "style": "IPY_MODEL_6cef2ff46d1e4e1aba918e19ea85ad0d",
      "value": " 220/845 [04:30&lt;12:49,  1.23s/it, v_num=2]"
     }
    },
    "4a3edc071d2148deb85becb7e22c9b09": {
     "model_module": "@jupyter-widgets/base",
     "model_name": "LayoutModel",
     "model_module_version": "1.2.0",
     "state": {
      "_model_module": "@jupyter-widgets/base",
      "_model_module_version": "1.2.0",
      "_model_name": "LayoutModel",
      "_view_count": null,
      "_view_module": "@jupyter-widgets/base",
      "_view_module_version": "1.2.0",
      "_view_name": "LayoutView",
      "align_content": null,
      "align_items": null,
      "align_self": null,
      "border": null,
      "bottom": null,
      "display": "inline-flex",
      "flex": null,
      "flex_flow": "row wrap",
      "grid_area": null,
      "grid_auto_columns": null,
      "grid_auto_flow": null,
      "grid_auto_rows": null,
      "grid_column": null,
      "grid_gap": null,
      "grid_row": null,
      "grid_template_areas": null,
      "grid_template_columns": null,
      "grid_template_rows": null,
      "height": null,
      "justify_content": null,
      "justify_items": null,
      "left": null,
      "margin": null,
      "max_height": null,
      "max_width": null,
      "min_height": null,
      "min_width": null,
      "object_fit": null,
      "object_position": null,
      "order": null,
      "overflow": null,
      "overflow_x": null,
      "overflow_y": null,
      "padding": null,
      "right": null,
      "top": null,
      "visibility": null,
      "width": "100%"
     }
    },
    "b33a513ec4b944f9ae7a8eb1de70408b": {
     "model_module": "@jupyter-widgets/base",
     "model_name": "LayoutModel",
     "model_module_version": "1.2.0",
     "state": {
      "_model_module": "@jupyter-widgets/base",
      "_model_module_version": "1.2.0",
      "_model_name": "LayoutModel",
      "_view_count": null,
      "_view_module": "@jupyter-widgets/base",
      "_view_module_version": "1.2.0",
      "_view_name": "LayoutView",
      "align_content": null,
      "align_items": null,
      "align_self": null,
      "border": null,
      "bottom": null,
      "display": null,
      "flex": null,
      "flex_flow": null,
      "grid_area": null,
      "grid_auto_columns": null,
      "grid_auto_flow": null,
      "grid_auto_rows": null,
      "grid_column": null,
      "grid_gap": null,
      "grid_row": null,
      "grid_template_areas": null,
      "grid_template_columns": null,
      "grid_template_rows": null,
      "height": null,
      "justify_content": null,
      "justify_items": null,
      "left": null,
      "margin": null,
      "max_height": null,
      "max_width": null,
      "min_height": null,
      "min_width": null,
      "object_fit": null,
      "object_position": null,
      "order": null,
      "overflow": null,
      "overflow_x": null,
      "overflow_y": null,
      "padding": null,
      "right": null,
      "top": null,
      "visibility": null,
      "width": null
     }
    },
    "c70b8befafa544ceb59f3b2f999a1c97": {
     "model_module": "@jupyter-widgets/controls",
     "model_name": "DescriptionStyleModel",
     "model_module_version": "1.5.0",
     "state": {
      "_model_module": "@jupyter-widgets/controls",
      "_model_module_version": "1.5.0",
      "_model_name": "DescriptionStyleModel",
      "_view_count": null,
      "_view_module": "@jupyter-widgets/base",
      "_view_module_version": "1.2.0",
      "_view_name": "StyleView",
      "description_width": ""
     }
    },
    "7525ac0dfc4e4d579844bb5747a68f20": {
     "model_module": "@jupyter-widgets/base",
     "model_name": "LayoutModel",
     "model_module_version": "1.2.0",
     "state": {
      "_model_module": "@jupyter-widgets/base",
      "_model_module_version": "1.2.0",
      "_model_name": "LayoutModel",
      "_view_count": null,
      "_view_module": "@jupyter-widgets/base",
      "_view_module_version": "1.2.0",
      "_view_name": "LayoutView",
      "align_content": null,
      "align_items": null,
      "align_self": null,
      "border": null,
      "bottom": null,
      "display": null,
      "flex": "2",
      "flex_flow": null,
      "grid_area": null,
      "grid_auto_columns": null,
      "grid_auto_flow": null,
      "grid_auto_rows": null,
      "grid_column": null,
      "grid_gap": null,
      "grid_row": null,
      "grid_template_areas": null,
      "grid_template_columns": null,
      "grid_template_rows": null,
      "height": null,
      "justify_content": null,
      "justify_items": null,
      "left": null,
      "margin": null,
      "max_height": null,
      "max_width": null,
      "min_height": null,
      "min_width": null,
      "object_fit": null,
      "object_position": null,
      "order": null,
      "overflow": null,
      "overflow_x": null,
      "overflow_y": null,
      "padding": null,
      "right": null,
      "top": null,
      "visibility": null,
      "width": null
     }
    },
    "16d106482e41496eb6842c4936d6f31a": {
     "model_module": "@jupyter-widgets/controls",
     "model_name": "ProgressStyleModel",
     "model_module_version": "1.5.0",
     "state": {
      "_model_module": "@jupyter-widgets/controls",
      "_model_module_version": "1.5.0",
      "_model_name": "ProgressStyleModel",
      "_view_count": null,
      "_view_module": "@jupyter-widgets/base",
      "_view_module_version": "1.2.0",
      "_view_name": "StyleView",
      "bar_color": null,
      "description_width": ""
     }
    },
    "c310b93565b8476d8fe30e095789baf7": {
     "model_module": "@jupyter-widgets/base",
     "model_name": "LayoutModel",
     "model_module_version": "1.2.0",
     "state": {
      "_model_module": "@jupyter-widgets/base",
      "_model_module_version": "1.2.0",
      "_model_name": "LayoutModel",
      "_view_count": null,
      "_view_module": "@jupyter-widgets/base",
      "_view_module_version": "1.2.0",
      "_view_name": "LayoutView",
      "align_content": null,
      "align_items": null,
      "align_self": null,
      "border": null,
      "bottom": null,
      "display": null,
      "flex": null,
      "flex_flow": null,
      "grid_area": null,
      "grid_auto_columns": null,
      "grid_auto_flow": null,
      "grid_auto_rows": null,
      "grid_column": null,
      "grid_gap": null,
      "grid_row": null,
      "grid_template_areas": null,
      "grid_template_columns": null,
      "grid_template_rows": null,
      "height": null,
      "justify_content": null,
      "justify_items": null,
      "left": null,
      "margin": null,
      "max_height": null,
      "max_width": null,
      "min_height": null,
      "min_width": null,
      "object_fit": null,
      "object_position": null,
      "order": null,
      "overflow": null,
      "overflow_x": null,
      "overflow_y": null,
      "padding": null,
      "right": null,
      "top": null,
      "visibility": null,
      "width": null
     }
    },
    "6cef2ff46d1e4e1aba918e19ea85ad0d": {
     "model_module": "@jupyter-widgets/controls",
     "model_name": "DescriptionStyleModel",
     "model_module_version": "1.5.0",
     "state": {
      "_model_module": "@jupyter-widgets/controls",
      "_model_module_version": "1.5.0",
      "_model_name": "DescriptionStyleModel",
      "_view_count": null,
      "_view_module": "@jupyter-widgets/base",
      "_view_module_version": "1.2.0",
      "_view_name": "StyleView",
      "description_width": ""
     }
    }
   }
  }
 },
 "cells": [
  {
   "cell_type": "code",
   "source": [
    "import os\n",
    "\n",
    "os.environ[\"PYTORCH_CUDA_ALLOC_CONF\"] = \"max_split_size_mb:512\"\n",
    "os.environ[\"CUDA_VISIBLE_DEVICES\"] = '0'\n",
    "\n",
    "import torch\n",
    "\n",
    "torch.set_float32_matmul_precision(\"medium\")  # Try \"high\" as well\n",
    "\n",
    "import matplotlib.pyplot as plt\n",
    "\n",
    "from torch.utils.data import DataLoader\n",
    "from pytorch_lightning.callbacks import ModelCheckpoint, EarlyStopping\n",
    "import pytorch_lightning as pl\n",
    "from pytorch_lightning.loggers import TensorBoardLogger, MLFlowLogger\n",
    "import segmentation_models_pytorch as smp\n",
    "import mlflow\n",
    "from typing import Tuple, List\n",
    "import numpy as np\n",
    "\n",
    "import coremltools as ct\n",
    "\n",
    "from src.dataset import SimpleWallADE20KDataset\n",
    "from src.model import WallModel\n",
    "from src import config\n",
    "from src.transform import get_preprocessing_transform, get_train_augmentations, get_val_augmentations"
   ],
   "metadata": {
    "colab": {
     "base_uri": "https://localhost:8080/"
    },
    "id": "VuwCVQ6eyjvE",
    "outputId": "1e60bdfc-81df-4628-9062-bd9bf012397b",
    "ExecuteTime": {
     "end_time": "2023-05-07T15:45:03.901785625Z",
     "start_time": "2023-05-07T15:45:01.268400300Z"
    }
   },
   "execution_count": 1,
   "outputs": [
    {
     "name": "stderr",
     "output_type": "stream",
     "text": [
      "scikit-learn version 1.2.2 is not supported. Minimum required version: 0.17. Maximum required version: 1.1.2. Disabling scikit-learn conversion API.\n"
     ]
    }
   ]
  },
  {
   "cell_type": "code",
   "execution_count": 2,
   "outputs": [],
   "source": [
    "# TODO: move to config\n",
    "ARCHITECTURE = 'DeepLabV3Plus'\n",
    "ENCODER = 'mobileone_s1'"
   ],
   "metadata": {
    "collapsed": false,
    "ExecuteTime": {
     "end_time": "2023-05-07T15:45:03.904194510Z",
     "start_time": "2023-05-07T15:45:03.902445290Z"
    }
   }
  },
  {
   "cell_type": "code",
   "source": [
    "# Use this for debug or set to None for actual training\n",
    "# TRAIN_SIZE = 200\n",
    "# VAL_SIZE = 200\n",
    "TRAIN_SIZE = None\n",
    "VAL_SIZE = None\n",
    "\n",
    "train_augmentations = get_train_augmentations()\n",
    "train_dataset = SimpleWallADE20KDataset(\n",
    "    root=config.DATA_ROOT,\n",
    "    mode='train',\n",
    "    length=TRAIN_SIZE,\n",
    "    augmentation_fn=train_augmentations,\n",
    "    preprocessing_fn=get_preprocessing_transform(ENCODER)\n",
    ")\n",
    "\n",
    "val_augmentations = get_val_augmentations()\n",
    "val_dataset = SimpleWallADE20KDataset(\n",
    "    root=config.DATA_ROOT,\n",
    "    mode='val',\n",
    "    length=TRAIN_SIZE,\n",
    "    augmentation_fn=val_augmentations,\n",
    "    preprocessing_fn=get_preprocessing_transform(ENCODER)\n",
    ")\n",
    "\n",
    "print(f\"Train size: {len(train_dataset)}\")\n",
    "print(f\"Validation size: {len(val_dataset)}\")\n",
    "\n",
    "n_cpu = os.cpu_count()\n",
    "print(f'Number of CPUs: {n_cpu}')\n",
    "train_dataloader = DataLoader(train_dataset, batch_size=config.BATCH_SIZE, shuffle=True, num_workers=n_cpu)\n",
    "val_dataloader = DataLoader(val_dataset, batch_size=config.BATCH_SIZE, shuffle=False, num_workers=n_cpu)"
   ],
   "metadata": {
    "colab": {
     "base_uri": "https://localhost:8080/"
    },
    "id": "ZTbwuQCi4lzR",
    "outputId": "1578f71f-d171-4a57-e42e-a1bb54e2c476",
    "ExecuteTime": {
     "end_time": "2023-05-07T15:45:26.277036725Z",
     "start_time": "2023-05-07T15:45:03.905613455Z"
    }
   },
   "execution_count": 3,
   "outputs": [
    {
     "name": "stderr",
     "output_type": "stream",
     "text": [
      "/home/ricardsku/miniconda3/envs/ml/lib/python3.10/site-packages/albumentations/augmentations/transforms.py:1149: FutureWarning: This class has been deprecated. Please use RandomBrightnessContrast\n",
      "  warnings.warn(\n",
      "/home/ricardsku/miniconda3/envs/ml/lib/python3.10/site-packages/albumentations/augmentations/transforms.py:1175: FutureWarning: RandomContrast has been deprecated. Please use RandomBrightnessContrast\n",
      "  warnings.warn(\n"
     ]
    },
    {
     "name": "stdout",
     "output_type": "stream",
     "text": [
      "Train size: 11035\n",
      "Validation size: 969\n",
      "Number of CPUs: 20\n"
     ]
    }
   ]
  },
  {
   "cell_type": "code",
   "execution_count": 4,
   "outputs": [
    {
     "data": {
      "text/plain": "(torch.Tensor,\n torch.Size([8, 3, 512, 512]),\n tensor(-2.1179),\n tensor(2.6400),\n tensor(-0.6403),\n tensor(1.2807))"
     },
     "execution_count": 4,
     "metadata": {},
     "output_type": "execute_result"
    }
   ],
   "source": [
    "images, masks = next(iter(train_dataloader))\n",
    "type(images), images.shape, images.min(), images.max(), images.mean(), images.std()"
   ],
   "metadata": {
    "collapsed": false,
    "ExecuteTime": {
     "end_time": "2023-05-07T15:45:28.502478447Z",
     "start_time": "2023-05-07T15:45:26.279565228Z"
    }
   }
  },
  {
   "cell_type": "code",
   "source": [
    "# TODO: check if encoder is frozen and try unfreezing it\n",
    "wall_model = WallModel(\n",
    "    architecture=ARCHITECTURE,\n",
    "    encoder_name=ENCODER,  # s0, s1, s2, s3, s4\n",
    "    in_channels=3,\n",
    "    out_classes=1,\n",
    "    learning_rate=config.LEARNING_RATE,\n",
    ")\n",
    "wall_model.params"
   ],
   "metadata": {
    "id": "6c8S1bpfyzmZ",
    "ExecuteTime": {
     "end_time": "2023-05-07T15:45:28.668148068Z",
     "start_time": "2023-05-07T15:45:28.506894904Z"
    }
   },
   "execution_count": 5,
   "outputs": [
    {
     "data": {
      "text/plain": "{'input_space': 'RGB',\n 'input_range': [0, 1],\n 'mean': [0.485, 0.456, 0.406],\n 'std': [0.229, 0.224, 0.225]}"
     },
     "execution_count": 5,
     "metadata": {},
     "output_type": "execute_result"
    }
   ]
  },
  {
   "cell_type": "code",
   "execution_count": 6,
   "outputs": [],
   "source": [
    "if config.FREEZE_ENCODER:\n",
    "    print(\"Freezing encoder params\")\n",
    "    for p in wall_model.model.encoder.parameters():\n",
    "        p.requires_grad = False"
   ],
   "metadata": {
    "collapsed": false,
    "ExecuteTime": {
     "end_time": "2023-05-07T15:45:28.671162382Z",
     "start_time": "2023-05-07T15:45:28.669549680Z"
    }
   }
  },
  {
   "cell_type": "code",
   "source": [
    "checkpoint_callback = ModelCheckpoint(\n",
    "    dirpath=os.getcwd(),\n",
    "    filename='{epoch}-{val_loss:.2f}-{val_dataset_iou:.2f}',\n",
    "    save_top_k=1,\n",
    "    verbose=True,\n",
    "    monitor='val_loss',\n",
    "    mode='min',\n",
    ")\n",
    "\n",
    "earlystop_callback = EarlyStopping(monitor=\"val_loss\", patience=5)\n",
    "\n",
    "MLFLOW_EXPERIMENT_NAME = 'wall_segmentation'\n",
    "\n",
    "# TODO: use model name from config.py\n",
    "# logger = TensorBoardLogger(\"tb_logs\", name=\"wall_model\")"
   ],
   "metadata": {
    "id": "yI8Ba3v95Sql",
    "ExecuteTime": {
     "end_time": "2023-05-07T15:45:28.692344249Z",
     "start_time": "2023-05-07T15:45:28.672515791Z"
    }
   },
   "execution_count": 7,
   "outputs": []
  },
  {
   "cell_type": "code",
   "source": [
    "# TODO: Adjust parameters as described in MobileOne and DeepLab papers\n",
    "# MobileOne:\n",
    "#  - weight decay in early stages (probably not needed, since we do transfer learning)\n",
    "#  - cosine schedule for learning rate\n",
    "#  - S0 and S1 we use standard augmentation – random resized cropping and horizontal flipping.\n",
    "#  - We also use EMA (Exponential Moving Average) weight averaging with decay constant of 0.9995 for training all versions of MobileOne.\n",
    "#  - We use MobileOne as the backbone for a Deeplab V3 segmentation network [4] using the cvnets library [45].\n",
    "#  - The VOC models were trained on the augmented Pascal VOC dataset [16] for 50 epochs following the training procedure of [45] (MobileVIT). \n",
    "#    The ADE 20k [65] models were trained using the same hyperparameters and augmentations\n",
    "# DeepLab:\n",
    "#  - TODO"
   ],
   "metadata": {
    "id": "KagW3f-y5Ss6",
    "ExecuteTime": {
     "end_time": "2023-05-07T15:45:28.736662532Z",
     "start_time": "2023-05-07T15:45:28.693192787Z"
    }
   },
   "execution_count": 8,
   "outputs": []
  },
  {
   "cell_type": "code",
   "source": [
    "mlflow.set_experiment(MLFLOW_EXPERIMENT_NAME)\n",
    "with mlflow.start_run() as run:\n",
    "    mlflow.log_params({\n",
    "        'max_epochs': config.MAX_EPOCHS,\n",
    "        'encoder_params': wall_model.params,\n",
    "        'learning_rate': config.LEARNING_RATE,\n",
    "        'batch_size': config.BATCH_SIZE,\n",
    "        'val_dataset_size': len(val_dataset),\n",
    "        'train_dataset_size': len(train_dataset),\n",
    "        # 'train_augmentations': repr(train_augmentations),\n",
    "        # 'val_augmentations': repr(train_augmentations),\n",
    "        'architecture': ARCHITECTURE,\n",
    "        'encoder': ENCODER,\n",
    "        'freeze_encoder': config.FREEZE_ENCODER,\n",
    "    })\n",
    "\n",
    "    logger = MLFlowLogger(\n",
    "        MLFLOW_EXPERIMENT_NAME,\n",
    "        save_dir=\"./mlruns\",\n",
    "        log_model=True,\n",
    "        run_id=run.info.run_id,\n",
    "    )\n",
    "\n",
    "    trainer = pl.Trainer(\n",
    "        devices=1,\n",
    "        logger=logger,\n",
    "        max_epochs=config.MAX_EPOCHS,\n",
    "        callbacks=[\n",
    "            checkpoint_callback,\n",
    "            earlystop_callback\n",
    "        ]\n",
    "    )\n",
    "\n",
    "    trainer.fit(\n",
    "        wall_model,\n",
    "        train_dataloaders=train_dataloader,\n",
    "        val_dataloaders=val_dataloader\n",
    "    )\n",
    "\n",
    "# TODO visualize training curves + in real time (tensorbboard?)"
   ],
   "metadata": {
    "colab": {
     "base_uri": "https://localhost:8080/",
     "height": 317,
     "referenced_widgets": [
      "95a0b184c0c243a18ac8675bf2f28058",
      "302d0cafe6f74406a2693fabbdab09f5",
      "338ac979520c42bbbc9037dd66037285",
      "fb5a25c466704e308bc146468028bbf4",
      "65447da4a718445dbabd498989e33ea1",
      "ecee03b9e39d4a7c8e29e49a2cf38b22",
      "574a12afb80449219dfb3467ac6d97f5",
      "8adc7c285f6945d6bc4194b5a3d2fbf8",
      "0c8699892d3a4379ac2079e31694c985",
      "c4b8f059656c4fd5a4487d7b3966d368",
      "b6b070b037f448d99b9d80f741a9c3a7",
      "e55d387e9a314b6baf988c310728785b",
      "269501bbdeb4450aa200af474e0c6c59",
      "a815db76a2e342329b9f3978769938c0",
      "96fa504e65c14d2c948e8ac0a07855c2",
      "4a3edc071d2148deb85becb7e22c9b09",
      "b33a513ec4b944f9ae7a8eb1de70408b",
      "c70b8befafa544ceb59f3b2f999a1c97",
      "7525ac0dfc4e4d579844bb5747a68f20",
      "16d106482e41496eb6842c4936d6f31a",
      "c310b93565b8476d8fe30e095789baf7",
      "6cef2ff46d1e4e1aba918e19ea85ad0d"
     ]
    },
    "id": "bGDrC5qR5owu",
    "outputId": "e6942f96-364b-4fc2-adbd-dcbf27e4270b",
    "is_executing": true,
    "ExecuteTime": {
     "start_time": "2023-05-07T15:45:28.736486964Z"
    }
   },
   "execution_count": null,
   "outputs": [
    {
     "name": "stderr",
     "output_type": "stream",
     "text": [
      "GPU available: True (cuda), used: True\n",
      "TPU available: False, using: 0 TPU cores\n",
      "IPU available: False, using: 0 IPUs\n",
      "HPU available: False, using: 0 HPUs\n",
      "/home/ricardsku/miniconda3/envs/ml/lib/python3.10/site-packages/pytorch_lightning/callbacks/model_checkpoint.py:612: UserWarning: Checkpoint directory /home/ricardsku/Development/Bath/bath_wall_segmentation_model/notebooks exists and is not empty.\n",
      "  rank_zero_warn(f\"Checkpoint directory {dirpath} exists and is not empty.\")\n",
      "LOCAL_RANK: 0 - CUDA_VISIBLE_DEVICES: [0]\n",
      "\n",
      "  | Name    | Type          | Params\n",
      "------------------------------------------\n",
      "0 | model   | DeepLabV3Plus | 5.7 M \n",
      "1 | loss_fn | DiceLoss      | 0     \n",
      "------------------------------------------\n",
      "5.7 M     Trainable params\n",
      "0         Non-trainable params\n",
      "5.7 M     Total params\n",
      "22.809    Total estimated model params size (MB)\n"
     ]
    },
    {
     "data": {
      "text/plain": "Sanity Checking: 0it [00:00, ?it/s]",
      "application/vnd.jupyter.widget-view+json": {
       "version_major": 2,
       "version_minor": 0,
       "model_id": "39c6d00ffb1e4f508803a6f234c7854b"
      }
     },
     "metadata": {},
     "output_type": "display_data"
    },
    {
     "data": {
      "text/plain": "Training: 0it [00:00, ?it/s]",
      "application/vnd.jupyter.widget-view+json": {
       "version_major": 2,
       "version_minor": 0,
       "model_id": "f30166a222844922b69395263debb060"
      }
     },
     "metadata": {},
     "output_type": "display_data"
    },
    {
     "data": {
      "text/plain": "Validation: 0it [00:00, ?it/s]",
      "application/vnd.jupyter.widget-view+json": {
       "version_major": 2,
       "version_minor": 0,
       "model_id": "ff4f81a7f5ef4f8c895b3b6f6fec824d"
      }
     },
     "metadata": {},
     "output_type": "display_data"
    },
    {
     "name": "stderr",
     "output_type": "stream",
     "text": [
      "Epoch 0, global step 1380: 'val_loss' reached 0.24652 (best 0.24652), saving model to '/home/ricardsku/Development/Bath/bath_wall_segmentation_model/notebooks/epoch=0-val_loss=0.25-val_dataset_iou=0.62.ckpt' as top 1\n"
     ]
    }
   ]
  },
  {
   "cell_type": "code",
   "execution_count": null,
   "outputs": [],
   "source": [
    "wall_model = wall_model.eval()"
   ],
   "metadata": {
    "collapsed": false,
    "is_executing": true
   }
  },
  {
   "cell_type": "code",
   "execution_count": null,
   "outputs": [],
   "source": [
    "demo_dataset = SimpleWallADE20KDataset(\n",
    "    root=config.DATA_ROOT,\n",
    "    length=10,\n",
    "    preprocessing_fn=get_preprocessing_transform(ENCODER),\n",
    "    augmentation_fn=get_val_augmentations()\n",
    ")\n",
    "demo_dataset_vis = SimpleWallADE20KDataset(\n",
    "    root=config.DATA_ROOT,\n",
    "    length=10,\n",
    "    preprocessing_fn=None\n",
    ")"
   ],
   "metadata": {
    "collapsed": false,
    "is_executing": true
   }
  },
  {
   "cell_type": "code",
   "execution_count": null,
   "outputs": [],
   "source": [
    "demo_dataloader = DataLoader(demo_dataset, batch_size=1, shuffle=False)"
   ],
   "metadata": {
    "collapsed": false,
    "is_executing": true
   }
  },
  {
   "cell_type": "code",
   "execution_count": null,
   "outputs": [],
   "source": [
    "def show_images(images: List[Tuple[str, np.ndarray]]):\n",
    "    num_images = len(images)\n",
    "    plt.figure(figsize=(16, 5))\n",
    "    for i, (name, image) in enumerate(images):\n",
    "        plt.subplot(1, num_images, i + 1)\n",
    "        plt.axis('off')\n",
    "        plt.title(name)\n",
    "        plt.imshow(image)\n",
    "    plt.show()"
   ],
   "metadata": {
    "collapsed": false,
    "is_executing": true
   }
  },
  {
   "cell_type": "code",
   "execution_count": null,
   "outputs": [],
   "source": [
    "dataloader_iter = iter(demo_dataloader)\n",
    "for i in range(0, 10):\n",
    "    image, mask = demo_dataset_vis[i]\n",
    "    x, _ = next(dataloader_iter)\n",
    "    x = x.cuda()\n",
    "    y = wall_model(x).cpu().detach().numpy().squeeze()\n",
    "\n",
    "    show_images([\n",
    "        ('Image', image),\n",
    "        ('Prediction', y),\n",
    "        ('Ground truth', mask),\n",
    "    ])"
   ],
   "metadata": {
    "collapsed": false,
    "is_executing": true
   }
  },
  {
   "cell_type": "code",
   "execution_count": null,
   "outputs": [],
   "source": [],
   "metadata": {
    "collapsed": false,
    "is_executing": true
   }
  }
 ]
}
